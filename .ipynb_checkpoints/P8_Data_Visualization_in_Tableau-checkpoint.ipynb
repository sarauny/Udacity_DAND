{
 "cells": [
  {
   "cell_type": "markdown",
   "metadata": {},
   "source": [
    "## L1.  Data Visualization Fundamentals"
   ]
  },
  {
   "cell_type": "markdown",
   "metadata": {},
   "source": [
    "### 4. Why Use Data Visualization"
   ]
  },
  {
   "cell_type": "markdown",
   "metadata": {},
   "source": [
    "Edward Tufte elaborates on the speed of visual perception on his website.\n",
    "http://www.edwardtufte.com/bboard/q-and-a-fetch-msg?msg_id=0002NC\n",
    "\n",
    "Penn researchers calculate how much the eye tells the brain in this paper.\n",
    "https://www.eurekalert.org/pub_releases/2006-07/uops-prc072606.php"
   ]
  },
  {
   "cell_type": "code",
   "execution_count": null,
   "metadata": {
    "collapsed": true
   },
   "outputs": [],
   "source": [
    "### "
   ]
  },
  {
   "cell_type": "markdown",
   "metadata": {},
   "source": [
    "## L2.  Design Principles"
   ]
  },
  {
   "cell_type": "markdown",
   "metadata": {},
   "source": [
    "### 2. Common Chart Types"
   ]
  },
  {
   "cell_type": "markdown",
   "metadata": {},
   "source": [
    "Stephen Few's article on Selecting the Right Chart Type\n",
    "http://www.perceptualedge.com/articles/ie/the_right_graph.pdf\n",
    "\n",
    "Stephen Few's Graph Selection Matrix\n",
    "http://www.perceptualedge.com/articles/misc/Graph_Selection_Matrix.pdf\n",
    "\n",
    "Andrew Abela's Chart Suggestions\n",
    "https://extremepresentation.typepad.com/.shared/image.html?/photos/uncategorized/choosing_a_good_chart.jpg\n",
    "\n",
    "Solomon Messing's When to use stacked bar charts?\n",
    "https://solomonmessing.wordpress.com/2014/10/11/when-to-use-stacked-barcharts/"
   ]
  },
  {
   "cell_type": "markdown",
   "metadata": {},
   "source": [
    "### 3. Basic Figures"
   ]
  },
  {
   "cell_type": "markdown",
   "metadata": {},
   "source": [
    "#### Geospatial plots"
   ]
  },
  {
   "cell_type": "markdown",
   "metadata": {},
   "source": [
    "Choropleths\n",
    "https://en.wikipedia.org/wiki/Choropleth_map\n",
    "\n",
    "Cartograms\n",
    "https://en.wikipedia.org/wiki/Cartogram"
   ]
  },
  {
   "cell_type": "markdown",
   "metadata": {},
   "source": [
    "### 6. Common and Less Common Plots in Plot.ly"
   ]
  },
  {
   "cell_type": "markdown",
   "metadata": {},
   "source": [
    "plot.ly\n",
    "https://plot.ly/"
   ]
  },
  {
   "cell_type": "markdown",
   "metadata": {},
   "source": [
    "### 11. Using Color"
   ]
  },
  {
   "cell_type": "markdown",
   "metadata": {},
   "source": [
    "series of blog posts from Robert Simmon\n",
    "https://earthobservatory.nasa.gov/blogs/elegantfigures/2013/08/05/subtleties-of-color-part-1-of-6/  \n",
    "\n",
    "Paletton http://paletton.com/ \n",
    "\n",
    "Adobe color wheel https://color.adobe.com/ \n",
    "\n",
    "I want hue for building palettes for qualitative data http://tools.medialab.sciences-po.fr/iwanthue/  "
   ]
  },
  {
   "cell_type": "markdown",
   "metadata": {},
   "source": [
    "### 14. Practical Rules for Using Color"
   ]
  },
  {
   "cell_type": "markdown",
   "metadata": {},
   "source": [
    "Stephen Few's Practical Rules for Using Color in Charts\n",
    "http://www.perceptualedge.com/articles/visual_business_intelligence/rules_for_using_color.pdf"
   ]
  },
  {
   "cell_type": "markdown",
   "metadata": {},
   "source": [
    " - **Rule #1** - If you want different objects of the same color in a table or graph to look the same, make sure that the background—the color that surrounds them—is consistent.\n",
    " - **Rule #2** - If you want objects in a table or graph to be easily seen, use a background color that contrasts sufficiently with the object.\n",
    " - **Rule #3** - Use color only when needed to serve a particular communication goal.\n",
    " - **Rule #4** - Use different colors only when they correspond to differences of meaning in the data.\n",
    " - **Rule #5** - Use soft, natural colors to display most information and bright and/or dark colors to highlight information that requires greater attention.\n",
    " - **Rule #6** - When using color to encode a sequential range of quantitative values, stick with a single hue (or a small set of closely related hues) and vary intensity from pale colors for low values to increasingly darker and brighter colors for high values.\n",
    " - **Rule #7** - Non-data components of tables and graphs should be displayed just visibly enough to perform their role, but no more so, for excessive salience could cause them to distract attention from the data.\n",
    " - **Rule #8** - To guarantee that most people who are colorblind can distinguish groups of data that are color coded, avoid using a combination of red and green in the same display.\n",
    " - **Rule #9** - Avoid using visual effects in graphs."
   ]
  },
  {
   "cell_type": "markdown",
   "metadata": {},
   "source": [
    "## L3. Creating Visualizations with Tableau"
   ]
  },
  {
   "cell_type": "code",
   "execution_count": null,
   "metadata": {
    "collapsed": true
   },
   "outputs": [],
   "source": []
  },
  {
   "cell_type": "code",
   "execution_count": null,
   "metadata": {
    "collapsed": true
   },
   "outputs": [],
   "source": []
  }
 ],
 "metadata": {
  "anaconda-cloud": {},
  "kernelspec": {
   "display_name": "Python [conda env:DAND]",
   "language": "python",
   "name": "conda-env-DAND-py"
  },
  "language_info": {
   "codemirror_mode": {
    "name": "ipython",
    "version": 2
   },
   "file_extension": ".py",
   "mimetype": "text/x-python",
   "name": "python",
   "nbconvert_exporter": "python",
   "pygments_lexer": "ipython2",
   "version": "2.7.12"
  }
 },
 "nbformat": 4,
 "nbformat_minor": 2
}
