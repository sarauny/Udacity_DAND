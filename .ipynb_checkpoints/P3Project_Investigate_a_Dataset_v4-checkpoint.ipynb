{
 "cells": [
  {
   "cell_type": "markdown",
   "metadata": {},
   "source": [
    "# Titanic Data Investigation"
   ]
  },
  {
   "cell_type": "markdown",
   "metadata": {},
   "source": [
    "## Main Question: What affected passengers' survival rate?"
   ]
  },
  {
   "cell_type": "markdown",
   "metadata": {},
   "source": [
    "Using the Titanic data, I would like to investigate what sort of people were likely to survive through this incident. Breaking down the main question, \"what affected passengers' survival rate?\", into three more specific questions; \"which gender had higher survival opportinity?\", \"was there any correlation between age and survival rate?\" and \"was there any correlation between fare and survival rate?\", I would like to answer them one by one. "
   ]
  },
  {
   "cell_type": "markdown",
   "metadata": {},
   "source": [
    "## Table of Contents\n",
    "###   - 0. Data Wrangling\n",
    "###   - 1. Question 1\n",
    "###   - 2. Question 2\n",
    "###   - 3. Question 3\n",
    "###   - 4. Conclusion"
   ]
  },
  {
   "cell_type": "markdown",
   "metadata": {},
   "source": [
    "## 0. Data Wrangling"
   ]
  },
  {
   "cell_type": "markdown",
   "metadata": {},
   "source": [
    "Before starting the data analysis, I would go through following three steps as a preparation.\n",
    "- identify the missing values\n",
    "- change the data type\n",
    "- transform the given data into data frame"
   ]
  },
  {
   "cell_type": "code",
   "execution_count": 3,
   "metadata": {
    "collapsed": false
   },
   "outputs": [],
   "source": [
    "# Import libraries\n",
    "import pandas as pd\n",
    "import numpy as np\n",
    "import matplotlib.pyplot as plt\n",
    "import unicodecsv as csv\n",
    "from scipy import stats\n",
    "import seaborn as sns"
   ]
  },
  {
   "cell_type": "code",
   "execution_count": 4,
   "metadata": {
    "collapsed": false
   },
   "outputs": [],
   "source": [
    "# Load titanic data from csv\n",
    "\n",
    "def read_csv(filename):\n",
    "    with open(filename, 'rb') as f:\n",
    "        reader = csv.DictReader(f)\n",
    "        return list(reader)\n",
    "\n",
    "titanic = read_csv('P3Project_Datasets/titanic-data.csv')"
   ]
  },
  {
   "cell_type": "code",
   "execution_count": 5,
   "metadata": {
    "collapsed": false
   },
   "outputs": [
    {
     "data": {
      "text/plain": [
       "False"
      ]
     },
     "execution_count": 5,
     "metadata": {},
     "output_type": "execute_result"
    }
   ],
   "source": [
    "# Identify the missing values\n",
    "pd.isnull(titanic).any()"
   ]
  },
  {
   "cell_type": "code",
   "execution_count": 6,
   "metadata": {
    "collapsed": false
   },
   "outputs": [
    {
     "data": {
      "text/plain": [
       "{u'Age': 22,\n",
       " u'Cabin': u'',\n",
       " u'Embarked': u'S',\n",
       " u'Fare': 7.25,\n",
       " u'Name': u'Braund, Mr. Owen Harris',\n",
       " u'Parch': 0,\n",
       " u'PassengerId': u'1',\n",
       " u'Pclass': 3,\n",
       " u'Sex': u'male',\n",
       " u'SibSp': 1,\n",
       " u'Survived': 0,\n",
       " u'Ticket': u'A/5 21171'}"
      ]
     },
     "execution_count": 6,
     "metadata": {},
     "output_type": "execute_result"
    }
   ],
   "source": [
    "# If i is empty, return none. else return an int\n",
    "def parse_maybe_int(i):\n",
    "#    if i == '':\n",
    "#        return None\n",
    "#        print(\"hi there is an ''.\") # To test if the empty string loop in here\n",
    "#    else:\n",
    "        try:\n",
    "            return int(i)\n",
    "        except:\n",
    "            None\n",
    "            \n",
    "def parse_maybe_float(i):\n",
    "        try:\n",
    "            return float(i)\n",
    "        except:\n",
    "            None\n",
    "\n",
    "\n",
    "# Clean up the data types in the titanic table\n",
    "for titanic2 in titanic:\n",
    "    titanic2['Age'] = parse_maybe_int(titanic2['Age'])\n",
    "    titanic2['Fare'] = parse_maybe_float(titanic2['Fare'])\n",
    "    titanic2['Parch'] = parse_maybe_int(titanic2['Parch'])\n",
    "    titanic2['Pclass'] = parse_maybe_int(titanic2['Pclass'])\n",
    "    titanic2['SibSp'] = parse_maybe_int(titanic2['SibSp'])\n",
    "    titanic2['Survived'] = parse_maybe_int(titanic2['Survived'])\n",
    "    \n",
    "titanic[0]"
   ]
  },
  {
   "cell_type": "code",
   "execution_count": 7,
   "metadata": {
    "collapsed": false
   },
   "outputs": [],
   "source": [
    "# Convert to Data Frame\n",
    "titanic_df = pd.DataFrame(titanic)"
   ]
  },
  {
   "cell_type": "code",
   "execution_count": 8,
   "metadata": {
    "collapsed": false
   },
   "outputs": [
    {
     "name": "stdout",
     "output_type": "stream",
     "text": [
      "<class 'pandas.core.frame.DataFrame'>\n",
      "RangeIndex: 891 entries, 0 to 890\n",
      "Data columns (total 12 columns):\n",
      "Age            689 non-null float64\n",
      "Cabin          891 non-null object\n",
      "Embarked       891 non-null object\n",
      "Fare           891 non-null float64\n",
      "Name           891 non-null object\n",
      "Parch          891 non-null int64\n",
      "PassengerId    891 non-null object\n",
      "Pclass         891 non-null int64\n",
      "Sex            891 non-null object\n",
      "SibSp          891 non-null int64\n",
      "Survived       891 non-null int64\n",
      "Ticket         891 non-null object\n",
      "dtypes: float64(2), int64(4), object(6)\n",
      "memory usage: 83.6+ KB\n"
     ]
    }
   ],
   "source": [
    "titanic_df.info()"
   ]
  },
  {
   "cell_type": "code",
   "execution_count": 9,
   "metadata": {
    "collapsed": false
   },
   "outputs": [
    {
     "data": {
      "text/html": [
       "<div>\n",
       "<table border=\"1\" class=\"dataframe\">\n",
       "  <thead>\n",
       "    <tr style=\"text-align: right;\">\n",
       "      <th></th>\n",
       "      <th>Age</th>\n",
       "      <th>Cabin</th>\n",
       "      <th>Embarked</th>\n",
       "      <th>Fare</th>\n",
       "      <th>Name</th>\n",
       "      <th>Parch</th>\n",
       "      <th>PassengerId</th>\n",
       "      <th>Pclass</th>\n",
       "      <th>Sex</th>\n",
       "      <th>SibSp</th>\n",
       "      <th>Survived</th>\n",
       "      <th>Ticket</th>\n",
       "    </tr>\n",
       "  </thead>\n",
       "  <tbody>\n",
       "    <tr>\n",
       "      <th>0</th>\n",
       "      <td>22.0</td>\n",
       "      <td></td>\n",
       "      <td>S</td>\n",
       "      <td>7.2500</td>\n",
       "      <td>Braund, Mr. Owen Harris</td>\n",
       "      <td>0</td>\n",
       "      <td>1</td>\n",
       "      <td>3</td>\n",
       "      <td>male</td>\n",
       "      <td>1</td>\n",
       "      <td>0</td>\n",
       "      <td>A/5 21171</td>\n",
       "    </tr>\n",
       "    <tr>\n",
       "      <th>1</th>\n",
       "      <td>38.0</td>\n",
       "      <td>C85</td>\n",
       "      <td>C</td>\n",
       "      <td>71.2833</td>\n",
       "      <td>Cumings, Mrs. John Bradley (Florence Briggs Th...</td>\n",
       "      <td>0</td>\n",
       "      <td>2</td>\n",
       "      <td>1</td>\n",
       "      <td>female</td>\n",
       "      <td>1</td>\n",
       "      <td>1</td>\n",
       "      <td>PC 17599</td>\n",
       "    </tr>\n",
       "    <tr>\n",
       "      <th>2</th>\n",
       "      <td>26.0</td>\n",
       "      <td></td>\n",
       "      <td>S</td>\n",
       "      <td>7.9250</td>\n",
       "      <td>Heikkinen, Miss. Laina</td>\n",
       "      <td>0</td>\n",
       "      <td>3</td>\n",
       "      <td>3</td>\n",
       "      <td>female</td>\n",
       "      <td>0</td>\n",
       "      <td>1</td>\n",
       "      <td>STON/O2. 3101282</td>\n",
       "    </tr>\n",
       "    <tr>\n",
       "      <th>3</th>\n",
       "      <td>35.0</td>\n",
       "      <td>C123</td>\n",
       "      <td>S</td>\n",
       "      <td>53.1000</td>\n",
       "      <td>Futrelle, Mrs. Jacques Heath (Lily May Peel)</td>\n",
       "      <td>0</td>\n",
       "      <td>4</td>\n",
       "      <td>1</td>\n",
       "      <td>female</td>\n",
       "      <td>1</td>\n",
       "      <td>1</td>\n",
       "      <td>113803</td>\n",
       "    </tr>\n",
       "    <tr>\n",
       "      <th>4</th>\n",
       "      <td>35.0</td>\n",
       "      <td></td>\n",
       "      <td>S</td>\n",
       "      <td>8.0500</td>\n",
       "      <td>Allen, Mr. William Henry</td>\n",
       "      <td>0</td>\n",
       "      <td>5</td>\n",
       "      <td>3</td>\n",
       "      <td>male</td>\n",
       "      <td>0</td>\n",
       "      <td>0</td>\n",
       "      <td>373450</td>\n",
       "    </tr>\n",
       "  </tbody>\n",
       "</table>\n",
       "</div>"
      ],
      "text/plain": [
       "    Age Cabin Embarked     Fare  \\\n",
       "0  22.0              S   7.2500   \n",
       "1  38.0   C85        C  71.2833   \n",
       "2  26.0              S   7.9250   \n",
       "3  35.0  C123        S  53.1000   \n",
       "4  35.0              S   8.0500   \n",
       "\n",
       "                                                Name  Parch PassengerId  \\\n",
       "0                            Braund, Mr. Owen Harris      0           1   \n",
       "1  Cumings, Mrs. John Bradley (Florence Briggs Th...      0           2   \n",
       "2                             Heikkinen, Miss. Laina      0           3   \n",
       "3       Futrelle, Mrs. Jacques Heath (Lily May Peel)      0           4   \n",
       "4                           Allen, Mr. William Henry      0           5   \n",
       "\n",
       "   Pclass     Sex  SibSp  Survived            Ticket  \n",
       "0       3    male      1         0         A/5 21171  \n",
       "1       1  female      1         1          PC 17599  \n",
       "2       3  female      0         1  STON/O2. 3101282  \n",
       "3       1  female      1         1            113803  \n",
       "4       3    male      0         0            373450  "
      ]
     },
     "execution_count": 9,
     "metadata": {},
     "output_type": "execute_result"
    }
   ],
   "source": [
    "titanic_df.head()"
   ]
  },
  {
   "cell_type": "code",
   "execution_count": 10,
   "metadata": {
    "collapsed": false
   },
   "outputs": [],
   "source": [
    "survived = titanic_df['Survived']\n",
    "age = titanic_df['Age']\n",
    "fare = titanic_df['Fare']\n",
    "parch = titanic_df['Parch']\n",
    "pclass = titanic_df['Pclass']\n",
    "sibsp = titanic_df['SibSp']"
   ]
  },
  {
   "cell_type": "markdown",
   "metadata": {},
   "source": [
    "## 1. Question 1"
   ]
  },
  {
   "cell_type": "markdown",
   "metadata": {},
   "source": [
    "First, I would like to answer this question; \"which gender had higher survival opportinity?\"."
   ]
  },
  {
   "cell_type": "markdown",
   "metadata": {},
   "source": [
    "### To visualize the propotion of the genders between survived and non-servived groups in 2x2 contigency table"
   ]
  },
  {
   "cell_type": "code",
   "execution_count": 11,
   "metadata": {
    "collapsed": false
   },
   "outputs": [
    {
     "data": {
      "text/html": [
       "<div>\n",
       "<table border=\"1\" class=\"dataframe\">\n",
       "  <thead>\n",
       "    <tr style=\"text-align: right;\">\n",
       "      <th>Sex</th>\n",
       "      <th>female</th>\n",
       "      <th>male</th>\n",
       "    </tr>\n",
       "    <tr>\n",
       "      <th>Survived</th>\n",
       "      <th></th>\n",
       "      <th></th>\n",
       "    </tr>\n",
       "  </thead>\n",
       "  <tbody>\n",
       "    <tr>\n",
       "      <th>0</th>\n",
       "      <td>81</td>\n",
       "      <td>468</td>\n",
       "    </tr>\n",
       "    <tr>\n",
       "      <th>1</th>\n",
       "      <td>233</td>\n",
       "      <td>109</td>\n",
       "    </tr>\n",
       "  </tbody>\n",
       "</table>\n",
       "</div>"
      ],
      "text/plain": [
       "Sex       female  male\n",
       "Survived              \n",
       "0             81   468\n",
       "1            233   109"
      ]
     },
     "execution_count": 11,
     "metadata": {},
     "output_type": "execute_result"
    }
   ],
   "source": [
    "# draw 2x2 contigency table\n",
    "\n",
    "pd.crosstab(titanic_df.Survived, titanic_df.Sex)"
   ]
  },
  {
   "cell_type": "code",
   "execution_count": 13,
   "metadata": {
    "collapsed": false
   },
   "outputs": [
    {
     "name": "stdout",
     "output_type": "stream",
     "text": [
      "Odds Ratio is 0.0809673159459\n",
      "pvalue is 6.46392156458e-60 (p value<.00001), very significant that a female has better chance to survive than a male.\n"
     ]
    }
   ],
   "source": [
    "# calcurate odds ration and p value\n",
    "\n",
    "oddsratio, pvalue = stats.fisher_exact([[81, 468], [233, 109]])\n",
    "print 'Odds Ratio is', oddsratio\n",
    "print 'pvalue is', pvalue, '(p value<.00001), very significant that a female has better chance to survive than a male.'"
   ]
  },
  {
   "cell_type": "markdown",
   "metadata": {},
   "source": [
    "### Answer 1. Female was likely to have better chance to survive than male"
   ]
  },
  {
   "cell_type": "markdown",
   "metadata": {},
   "source": [
    "## 2. Question 2"
   ]
  },
  {
   "cell_type": "markdown",
   "metadata": {},
   "source": [
    "At this section, I would like to answer to the second question, \"was there any correlation between age and survival rate?\"."
   ]
  },
  {
   "cell_type": "code",
   "execution_count": 61,
   "metadata": {
    "collapsed": false
   },
   "outputs": [
    {
     "data": {
      "text/html": [
       "<div>\n",
       "<table border=\"1\" class=\"dataframe\">\n",
       "  <thead>\n",
       "    <tr style=\"text-align: right;\">\n",
       "      <th></th>\n",
       "      <th>Age</th>\n",
       "      <th>Fare</th>\n",
       "      <th>Parch</th>\n",
       "      <th>Pclass</th>\n",
       "      <th>SibSp</th>\n",
       "      <th>Survived</th>\n",
       "    </tr>\n",
       "  </thead>\n",
       "  <tbody>\n",
       "    <tr>\n",
       "      <th>count</th>\n",
       "      <td>689.000000</td>\n",
       "      <td>891.000000</td>\n",
       "      <td>891.000000</td>\n",
       "      <td>891.000000</td>\n",
       "      <td>891.000000</td>\n",
       "      <td>891.000000</td>\n",
       "    </tr>\n",
       "    <tr>\n",
       "      <th>mean</th>\n",
       "      <td>29.847605</td>\n",
       "      <td>32.204208</td>\n",
       "      <td>0.381594</td>\n",
       "      <td>2.308642</td>\n",
       "      <td>0.523008</td>\n",
       "      <td>0.383838</td>\n",
       "    </tr>\n",
       "    <tr>\n",
       "      <th>std</th>\n",
       "      <td>14.317669</td>\n",
       "      <td>49.693429</td>\n",
       "      <td>0.806057</td>\n",
       "      <td>0.836071</td>\n",
       "      <td>1.102743</td>\n",
       "      <td>0.486592</td>\n",
       "    </tr>\n",
       "    <tr>\n",
       "      <th>min</th>\n",
       "      <td>1.000000</td>\n",
       "      <td>0.000000</td>\n",
       "      <td>0.000000</td>\n",
       "      <td>1.000000</td>\n",
       "      <td>0.000000</td>\n",
       "      <td>0.000000</td>\n",
       "    </tr>\n",
       "    <tr>\n",
       "      <th>25%</th>\n",
       "      <td>21.000000</td>\n",
       "      <td>7.910400</td>\n",
       "      <td>0.000000</td>\n",
       "      <td>2.000000</td>\n",
       "      <td>0.000000</td>\n",
       "      <td>0.000000</td>\n",
       "    </tr>\n",
       "    <tr>\n",
       "      <th>50%</th>\n",
       "      <td>28.000000</td>\n",
       "      <td>14.454200</td>\n",
       "      <td>0.000000</td>\n",
       "      <td>3.000000</td>\n",
       "      <td>0.000000</td>\n",
       "      <td>0.000000</td>\n",
       "    </tr>\n",
       "    <tr>\n",
       "      <th>75%</th>\n",
       "      <td>38.000000</td>\n",
       "      <td>31.000000</td>\n",
       "      <td>0.000000</td>\n",
       "      <td>3.000000</td>\n",
       "      <td>1.000000</td>\n",
       "      <td>1.000000</td>\n",
       "    </tr>\n",
       "    <tr>\n",
       "      <th>max</th>\n",
       "      <td>80.000000</td>\n",
       "      <td>512.329200</td>\n",
       "      <td>6.000000</td>\n",
       "      <td>3.000000</td>\n",
       "      <td>8.000000</td>\n",
       "      <td>1.000000</td>\n",
       "    </tr>\n",
       "  </tbody>\n",
       "</table>\n",
       "</div>"
      ],
      "text/plain": [
       "              Age        Fare       Parch      Pclass       SibSp    Survived\n",
       "count  689.000000  891.000000  891.000000  891.000000  891.000000  891.000000\n",
       "mean    29.847605   32.204208    0.381594    2.308642    0.523008    0.383838\n",
       "std     14.317669   49.693429    0.806057    0.836071    1.102743    0.486592\n",
       "min      1.000000    0.000000    0.000000    1.000000    0.000000    0.000000\n",
       "25%     21.000000    7.910400    0.000000    2.000000    0.000000    0.000000\n",
       "50%     28.000000   14.454200    0.000000    3.000000    0.000000    0.000000\n",
       "75%     38.000000   31.000000    0.000000    3.000000    1.000000    1.000000\n",
       "max     80.000000  512.329200    6.000000    3.000000    8.000000    1.000000"
      ]
     },
     "execution_count": 61,
     "metadata": {},
     "output_type": "execute_result"
    }
   ],
   "source": [
    "# Check out the Median, 25%, 75% and Mean age / fare for both Survivals vs Non-survivals specifically\n",
    "\n",
    "titanic_df.describe()"
   ]
  },
  {
   "cell_type": "code",
   "execution_count": 64,
   "metadata": {
    "collapsed": false
   },
   "outputs": [
    {
     "name": "stdout",
     "output_type": "stream",
     "text": [
      "Stats for age for survivals\n",
      "count    282.000000\n",
      "mean      29.014184\n",
      "std       14.505115\n",
      "min        1.000000\n",
      "25%       19.000000\n",
      "50%       28.500000\n",
      "75%       37.750000\n",
      "max       80.000000\n",
      "Name: Age, dtype: float64\n",
      "\n",
      "\n",
      "Stats for age for non-survivals\n",
      "count    407.000000\n",
      "mean      30.425061\n",
      "std       14.175489\n",
      "min        1.000000\n",
      "25%       21.000000\n",
      "50%       28.000000\n",
      "75%       39.000000\n",
      "max       74.000000\n",
      "Name: Age, dtype: float64\n"
     ]
    }
   ],
   "source": [
    "# devide given data into two: those survived(x) and those non-survived(x1)\n",
    "# describe the median, 25%, 75%, mean and etc. for each group\n",
    "\n",
    "df_Survived = titanic_df[titanic_df.Survived==1]\n",
    "x = df_Survived['Age'].dropna()\n",
    "print('Stats for age for survivals')\n",
    "print(x.describe())\n",
    "print('\\n')\n",
    "\n",
    "df_xSurvived = titanic_df[titanic_df.Survived==0]\n",
    "x1 = df_xSurvived['Age'].dropna()\n",
    "print('Stats for age for non-survivals')\n",
    "print(x1.describe())"
   ]
  },
  {
   "cell_type": "code",
   "execution_count": 30,
   "metadata": {
    "collapsed": false
   },
   "outputs": [
    {
     "data": {
      "text/plain": [
       "(array([  8.,   5.,   7.,   4.,   2.,   1.,   2.,   2.,   0.,   1.,   1.,\n",
       "          2.,   3.,   4.,   6.,   6.,   9.,   9.,   8.,  11.,   5.,  15.,\n",
       "          6.,   6.,  11.,   7.,   8.,  10.,   8.,   9.,   6.,   6.,  11.,\n",
       "         11.,   1.,   5.,   5.,   8.,   6.,   1.,   3.,   5.,   0.,   1.,\n",
       "          6.,   4.,   5.,   2.,   3.,   1.,   3.,   1.,   2.,   0.,   3.,\n",
       "          0.,   2.,   2.,   2.,   0.,   0.,   0.,   0.,   0.,   0.,   0.,\n",
       "          0.,   0.,   0.,   0.,   0.,   0.,   0.,   0.,   1.]),\n",
       " array([  1.        ,   2.05333333,   3.10666667,   4.16      ,\n",
       "          5.21333333,   6.26666667,   7.32      ,   8.37333333,\n",
       "          9.42666667,  10.48      ,  11.53333333,  12.58666667,\n",
       "         13.64      ,  14.69333333,  15.74666667,  16.8       ,\n",
       "         17.85333333,  18.90666667,  19.96      ,  21.01333333,\n",
       "         22.06666667,  23.12      ,  24.17333333,  25.22666667,\n",
       "         26.28      ,  27.33333333,  28.38666667,  29.44      ,\n",
       "         30.49333333,  31.54666667,  32.6       ,  33.65333333,\n",
       "         34.70666667,  35.76      ,  36.81333333,  37.86666667,\n",
       "         38.92      ,  39.97333333,  41.02666667,  42.08      ,\n",
       "         43.13333333,  44.18666667,  45.24      ,  46.29333333,\n",
       "         47.34666667,  48.4       ,  49.45333333,  50.50666667,\n",
       "         51.56      ,  52.61333333,  53.66666667,  54.72      ,\n",
       "         55.77333333,  56.82666667,  57.88      ,  58.93333333,\n",
       "         59.98666667,  61.04      ,  62.09333333,  63.14666667,\n",
       "         64.2       ,  65.25333333,  66.30666667,  67.36      ,\n",
       "         68.41333333,  69.46666667,  70.52      ,  71.57333333,\n",
       "         72.62666667,  73.68      ,  74.73333333,  75.78666667,\n",
       "         76.84      ,  77.89333333,  78.94666667,  80.        ]),\n",
       " <a list of 75 Patch objects>)"
      ]
     },
     "execution_count": 30,
     "metadata": {},
     "output_type": "execute_result"
    },
    {
     "data": {
      "image/png": "[encoded data removed]",
      "text/plain": [
       "<matplotlib.figure.Figure at 0x1169f3710>"
      ]
     },
     "metadata": {},
     "output_type": "display_data"
    },
    {
     "data": {
      "image/png": "[encoded data removed]",
      "text/plain": [
       "<matplotlib.figure.Figure at 0x115e897d0>"
      ]
     },
     "metadata": {},
     "output_type": "display_data"
    }
   ],
   "source": [
    "# draw graphs to show age distributions for both survivals and non-survivals\n",
    "\n",
    "%matplotlib inline\n",
    "plt.hist(x1, bins=75, alpha=0.5, color= 'r', label = 'non-survived')\n",
    "plt.hist(x, bins=75, alpha=0.7, color= 'pink', label = 'survived')\n",
    "plt.xlabel('Age')\n",
    "plt.ylabel('Number of people')\n",
    "plt.title('Histogram of age')\n",
    "plt.legend()\n",
    "\n",
    "fig, axs = plt.subplots(1,2)\n",
    "axs[0].hist(x1, bins=75, color= 'r')\n",
    "axs[1].hist(x, bins=75, color= 'pink')\n"
   ]
  },
  {
   "cell_type": "code",
   "execution_count": 60,
   "metadata": {
    "collapsed": false
   },
   "outputs": [
    {
     "data": {
      "text/plain": [
       "<matplotlib.text.Text at 0x118d89fd0>"
      ]
     },
     "execution_count": 60,
     "metadata": {},
     "output_type": "execute_result"
    },
    {
     "data": {
      "image/png": "[encoded data removed]",
      "text/plain": [
       "<matplotlib.figure.Figure at 0x118e34850>"
      ]
     },
     "metadata": {},
     "output_type": "display_data"
    }
   ],
   "source": [
    "#violin plot\n",
    "\n",
    "g = sns.violinplot( x=titanic_df[\"Survived\"], y=titanic_df[\"Age\"])\n",
    "sns.plt.title('Violin plot of age distribution')"
   ]
  },
  {
   "cell_type": "code",
   "execution_count": 31,
   "metadata": {
    "collapsed": false
   },
   "outputs": [
    {
     "name": "stdout",
     "output_type": "stream",
     "text": [
      "MannwhitneyuResult(statistic=55611.5, pvalue=0.24472631117511934)\n",
      "pvalue = .245 (less than .05). So it is true that there is no signficant difference.\n"
     ]
    }
   ],
   "source": [
    "# Mann-Whitney U test to compare age distribution of survival vs non-survival\n",
    "\n",
    "print(stats.mannwhitneyu(x, x1))\n",
    "print('pvalue = .245 (less than .05). So it is true that there is no signficant difference.')"
   ]
  },
  {
   "cell_type": "markdown",
   "metadata": {},
   "source": [
    "### Answer 2. Age doesn't affect the survival rate.\n",
    "Although there seems to be difference in survival rate for those below 10 years old according to the violin plot, I don't investigate further here. To reveal what made differnce for those below 10 years old, we need more information."
   ]
  },
  {
   "cell_type": "markdown",
   "metadata": {},
   "source": [
    "## 3. Question 3"
   ]
  },
  {
   "cell_type": "markdown",
   "metadata": {},
   "source": [
    "At this section, I would try to answer the last question;\"was there any correlation between fare and survival rate?\"."
   ]
  },
  {
   "cell_type": "code",
   "execution_count": 63,
   "metadata": {
    "collapsed": false
   },
   "outputs": [
    {
     "name": "stdout",
     "output_type": "stream",
     "text": [
      "Stats for fare for survivals\n",
      "count    342.000000\n",
      "mean      48.395408\n",
      "std       66.596998\n",
      "min        0.000000\n",
      "25%       12.475000\n",
      "50%       26.000000\n",
      "75%       57.000000\n",
      "max      512.329200\n",
      "Name: Fare, dtype: float64\n",
      "\n",
      "\n",
      "Stats for fare for non-survivals\n",
      "count    549.000000\n",
      "mean      22.117887\n",
      "std       31.388207\n",
      "min        0.000000\n",
      "25%        7.854200\n",
      "50%       10.500000\n",
      "75%       26.000000\n",
      "max      263.000000\n",
      "Name: Fare, dtype: float64\n"
     ]
    }
   ],
   "source": [
    "# devide given data into two: those survived(x) and those non-survived(x1)\n",
    "# describe the median, 25%, 75%, mean and etc. for each group\n",
    "\n",
    "df_Survived = titanic_df[titanic_df.Survived==1]\n",
    "x2 = df_Survived['Fare'].dropna()\n",
    "print('Stats for fare for survivals')\n",
    "print(x2.describe())\n",
    "print('\\n')\n",
    "\n",
    "df_xSurvived = titanic_df[titanic_df.Survived==0]\n",
    "x3 = df_xSurvived['Fare'].dropna()\n",
    "print('Stats for fare for non-survivals')\n",
    "print(x3.describe())"
   ]
  },
  {
   "cell_type": "code",
   "execution_count": 65,
   "metadata": {
    "collapsed": false
   },
   "outputs": [
    {
     "data": {
      "text/plain": [
       "(array([   1.,  107.,   36.,   51.,   24.,   10.,    2.,   13.,   16.,\n",
       "           4.,    4.,   18.,    8.,    9.,    0.,    2.,    5.,    4.,\n",
       "           0.,    6.,    0.,    2.,    4.,    0.,    2.,    0.,    0.,\n",
       "           0.,    0.,    0.,    3.,    0.,    0.,    3.,    0.,    0.,\n",
       "           1.,    0.,    4.,    0.,    0.,    0.,    0.,    0.,    0.,\n",
       "           0.,    0.,    0.,    0.,    0.,    0.,    0.,    0.,    0.,\n",
       "           0.,    0.,    0.,    0.,    0.,    0.,    0.,    0.,    0.,\n",
       "           0.,    0.,    0.,    0.,    0.,    0.,    0.,    0.,    0.,\n",
       "           0.,    0.,    3.]),\n",
       " array([   0.      ,    6.831056,   13.662112,   20.493168,   27.324224,\n",
       "          34.15528 ,   40.986336,   47.817392,   54.648448,   61.479504,\n",
       "          68.31056 ,   75.141616,   81.972672,   88.803728,   95.634784,\n",
       "         102.46584 ,  109.296896,  116.127952,  122.959008,  129.790064,\n",
       "         136.62112 ,  143.452176,  150.283232,  157.114288,  163.945344,\n",
       "         170.7764  ,  177.607456,  184.438512,  191.269568,  198.100624,\n",
       "         204.93168 ,  211.762736,  218.593792,  225.424848,  232.255904,\n",
       "         239.08696 ,  245.918016,  252.749072,  259.580128,  266.411184,\n",
       "         273.24224 ,  280.073296,  286.904352,  293.735408,  300.566464,\n",
       "         307.39752 ,  314.228576,  321.059632,  327.890688,  334.721744,\n",
       "         341.5528  ,  348.383856,  355.214912,  362.045968,  368.877024,\n",
       "         375.70808 ,  382.539136,  389.370192,  396.201248,  403.032304,\n",
       "         409.86336 ,  416.694416,  423.525472,  430.356528,  437.187584,\n",
       "         444.01864 ,  450.849696,  457.680752,  464.511808,  471.342864,\n",
       "         478.17392 ,  485.004976,  491.836032,  498.667088,  505.498144,\n",
       "         512.3292  ]),\n",
       " <a list of 75 Patch objects>)"
      ]
     },
     "execution_count": 65,
     "metadata": {},
     "output_type": "execute_result"
    },
    {
     "data": {
      "image/png": "[encoded data removed]",
      "text/plain": [
       "<matplotlib.figure.Figure at 0x118e01950>"
      ]
     },
     "metadata": {},
     "output_type": "display_data"
    },
    {
     "data": {
      "image/png": "[encoded data removed]",
      "text/plain": [
       "<matplotlib.figure.Figure at 0x118949350>"
      ]
     },
     "metadata": {},
     "output_type": "display_data"
    }
   ],
   "source": [
    "# draw graphs to show fare distributions for both survivals and non-survivals\n",
    "\n",
    "%matplotlib inline\n",
    "plt.hist(x3, bins=75, alpha=0.5, color= 'r')\n",
    "plt.hist(x2, bins=75, alpha=0.7, color= 'pink')\n",
    "\n",
    "fig, axs = plt.subplots(1,2)\n",
    "axs[0].hist(x3, bins=75, color= 'r')\n",
    "axs[1].hist(x2, bins=75, color= 'pink')"
   ]
  },
  {
   "cell_type": "code",
   "execution_count": 68,
   "metadata": {
    "collapsed": false
   },
   "outputs": [
    {
     "data": {
      "text/plain": [
       "<matplotlib.axes._subplots.AxesSubplot at 0x114946250>"
      ]
     },
     "execution_count": 68,
     "metadata": {},
     "output_type": "execute_result"
    },
    {
     "data": {
      "image/png": "[encoded data removed]",
      "text/plain": [
       "<matplotlib.figure.Figure at 0x114fbc6d0>"
      ]
     },
     "metadata": {},
     "output_type": "display_data"
    }
   ],
   "source": [
    "#violin plot\n",
    "sns.violinplot( x=titanic_df[\"Survived\"], y=titanic_df[\"Fare\"])"
   ]
  },
  {
   "cell_type": "code",
   "execution_count": 46,
   "metadata": {
    "collapsed": false,
    "scrolled": true
   },
   "outputs": [
    {
     "name": "stdout",
     "output_type": "stream",
     "text": [
      "MannwhitneyuResult(statistic=57806.5, pvalue=2.2767385896251186e-22)\n",
      "pvalue = 2.277 (more than .05). So it is true that there is signficant difference.\n"
     ]
    }
   ],
   "source": [
    "# Mann-Whitney U test to compare fare distribution of survival vs non-survival\n",
    "print(stats.mannwhitneyu(x2, x3))\n",
    "print('pvalue = 2.277 (more than .05). So it is true that there is signficant difference.')"
   ]
  },
  {
   "cell_type": "markdown",
   "metadata": {},
   "source": [
    "### Answer 3. Fare affects the survival rate."
   ]
  },
  {
   "cell_type": "markdown",
   "metadata": {},
   "source": [
    "## 3. Conclusion"
   ]
  },
  {
   "cell_type": "markdown",
   "metadata": {
    "collapsed": true
   },
   "source": [
    "### - Finding 1. There might be a positive correlation between survived and gender."
   ]
  },
  {
   "cell_type": "markdown",
   "metadata": {},
   "source": [
    "### - Finding 2. Age doesn't matter to survive or not."
   ]
  },
  {
   "cell_type": "markdown",
   "metadata": {},
   "source": [
    "### - Finding 3. There might be a negative correlation between for fare."
   ]
  },
  {
   "cell_type": "markdown",
   "metadata": {},
   "source": [
    "### Conclusion: According to the data, chances to survive were higher for passengers who is female and paid higher fare. "
   ]
  }
 ],
 "metadata": {
  "kernelspec": {
   "display_name": "Python [conda env:DAND]",
   "language": "python",
   "name": "conda-env-DAND-py"
  },
  "language_info": {
   "codemirror_mode": {
    "name": "ipython",
    "version": 2
   },
   "file_extension": ".py",
   "mimetype": "text/x-python",
   "name": "python",
   "nbconvert_exporter": "python",
   "pygments_lexer": "ipython2",
   "version": "2.7.12"
  }
 },
 "nbformat": 4,
 "nbformat_minor": 2
}
