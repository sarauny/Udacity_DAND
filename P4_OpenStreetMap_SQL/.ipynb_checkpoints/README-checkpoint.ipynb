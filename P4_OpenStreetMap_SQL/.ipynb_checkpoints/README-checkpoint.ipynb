{
 "cells": [
  {
   "cell_type": "code",
   "execution_count": null,
   "metadata": {
    "collapsed": true
   },
   "outputs": [],
   "source": [
    "# import required libraries\n",
    "\n",
    "import xml.etree.cElementTree as ET\n",
    "from collections import defaultdict\n",
    "import pprint\n",
    "import re\n",
    "import csv\n",
    "import codecs\n",
    "import cerberus\n",
    "import schema\n",
    "import os\n",
    "import sqlite3\n",
    "import sys\n",
    "import string\n",
    "import pymysql"
   ]
  },
  {
   "cell_type": "markdown",
   "metadata": {},
   "source": [
    "# OpenStreetMap Data Wrangling with Python and SQLite"
   ]
  },
  {
   "cell_type": "markdown",
   "metadata": {},
   "source": [
    "**Author:** Sara Uenoyama\n",
    "\n",
    "**Date:** August 4th, 2018"
   ]
  },
  {
   "cell_type": "markdown",
   "metadata": {},
   "source": [
    "## 0. Introduction"
   ]
  },
  {
   "cell_type": "markdown",
   "metadata": {},
   "source": [
    "As a final project of Udacity Data Analyst Nanodegree Program 4, Data Wrangling, I would like to audit and explore the OpenStreetMap Data of Singapore. After spending half a year as an exchange student, I am feeling more familiar with this lion city, and also would like to contribute to its map data through this project."
   ]
  },
  {
   "cell_type": "markdown",
   "metadata": {},
   "source": [
    "## 1. Map Area"
   ]
  },
  {
   "cell_type": "markdown",
   "metadata": {},
   "source": [
    "The area of the map we are going to investigate here is the whole land of Singapore."
   ]
  },
  {
   "cell_type": "markdown",
   "metadata": {},
   "source": [
    "\"singapore.osm\" is the data I downloaded from the OpenStreetMap website: https://www.openstreetmap.org/search?query=singapore#map=11/1.2904/103.8517"
   ]
  },
  {
   "cell_type": "markdown",
   "metadata": {},
   "source": [
    "I am originally from Japan, but after spending half a year and visiting  several times, Singapore became second home country to me. That's why I’m interested in seeing what database querying reveals, and I’d also like to take an opportunity to contribute to its improvement on OpenStreetMap.org."
   ]
  },
  {
   "cell_type": "markdown",
   "metadata": {},
   "source": [
    "## 1-2. Overview the data"
   ]
  },
  {
   "cell_type": "markdown",
   "metadata": {},
   "source": [
    "Folloing the approach from the Udacity course on Data Wrangling, I would go through the input data step-by-step. \n",
    "\n",
    "1. Audit the data: identify errors/missing or generally “dirty” data in the original XML file\n",
    "2. Create a data cleaning plan based on the audit\n",
    " - Identify the causes of any inconsistent/incorrect data\n",
    " - Develop a set of corrective cleaning actions and test on a small sample of the XML data\n",
    "3. Implement the data cleaning plan: run cleaning scripts and transfer the cleaned data to .csv files\n",
    "4. Manually correct as necessary: import the data from .csv files to a SQL database and perform SQL queries on the data to identify any further inconsistencies that would necessitate returning to step 1.\n"
   ]
  },
  {
   "cell_type": "markdown",
   "metadata": {},
   "source": [
    "### 1-2-1. Tags within the data"
   ]
  },
  {
   "cell_type": "markdown",
   "metadata": {},
   "source": [
    "First, to get an overview of the data, we would find tag names and the numbers of each tag.\n",
    "After running 1_mapparser.py, I received the following results: "
   ]
  },
  {
   "cell_type": "markdown",
   "metadata": {},
   "source": [
    "{'bounds': 1,  \n",
    " 'member': 127066,  \n",
    " 'meta': 1,  \n",
    " 'nd': 1193086,  \n",
    " 'node': 944343,  \n",
    " 'note': 1,  \n",
    " 'osm': 1,  \n",
    " 'relation': 3030,  \n",
    " 'tag': 523838,  \n",
    " 'way': 151035}"
   ]
  },
  {
   "cell_type": "markdown",
   "metadata": {},
   "source": [
    "### 1-2-2. Problematic characters"
   ]
  },
  {
   "cell_type": "markdown",
   "metadata": {},
   "source": [
    "Next, to explore the data, I created 3 regular expressions to find tags only with lower cases, tags with a colon in their names and tags with problematic characters."
   ]
  },
  {
   "cell_type": "markdown",
   "metadata": {},
   "source": [
    "Using 2_tags.py, I found the results below: "
   ]
  },
  {
   "cell_type": "markdown",
   "metadata": {},
   "source": [
    " - 'lower' : 419805, that is 419805 tags are only with lower case\n",
    " - 'lower_colon' : 102938,  that is 102938 tags have a colon in their names\n",
    " - 'problemchars' : 3, that is 3 tag is with problematic characters\n",
    " - 'other' : 1092, that is 1092 tags do not fall into any category above"
   ]
  },
  {
   "cell_type": "markdown",
   "metadata": {},
   "source": [
    "## 2. Problems Encountered in the Map"
   ]
  },
  {
   "cell_type": "markdown",
   "metadata": {},
   "source": [
    "## 2-1. Inconsistent street names"
   ]
  },
  {
   "cell_type": "markdown",
   "metadata": {},
   "source": [
    "I have found many inconsistencies with its street names when we run the inital 3_audit.py. So I updated its mapping variable and corrected the inconsistent street names as below:"
   ]
  },
  {
   "cell_type": "markdown",
   "metadata": {},
   "source": [
    "\n",
    "- Abbreviations\n",
    "    - Rd -> Road\n",
    "    - rd -> Road\n",
    "    - jln -> Jalan : street\n",
    "    - Jln -> Jalan : street\n",
    "    - Lor -> Lorong : path\n",
    "    - Blk -> Block\n",
    "    - blk -> Block\n",
    "    - Cl -> Close\n",
    "    - Dr -> Drive\n",
    "    - Bkt -> Bukit : hill\n",
    "    - Bt -> Bukit : hill\n",
    "    - Upp -> Upper\n",
    "\n",
    "\n",
    "- Incorrect street names\n",
    "    - Jalan Yayang Layang -> Jalan Layang Layang\n",
    "\n",
    "\n",
    "- LowerCase\n",
    "    - jalan kubor -> Jalan Kubor\n",
    "    - 41 lorong 16 geylang　-> 41 Lorong 16 Geylang \n",
    "    - jln afifi -> Jalan Afifi\n",
    "    - lornie rd -> Lornie Road\n",
    "    - Gloucester road -> Gloucester Road\n",
    "    - Nanson road -> Nanson Road\n",
    "    - Yuan Ching road -> Yuan Ching Road\n",
    "    - chinese garden road -> Chinese Garden Road\n",
    "    - 1801 Ang Mo kio avenue 1 -> 1801 Ang Mo Kio Avenue 1\n",
    "    - lorong 2 -> Lorong 2\n",
    "    - serangoon avenue -> Serangoon Avenue\n",
    "    - kalidassa avenue -> Kalidassa Avenue\n",
    "    - 2 kensington park drive -> 2 Kensington Park Drive\n",
    "    - ah soo garden -> Ah Soo Garden\n",
    "\n",
    "\n",
    "- Misspelling\n",
    "    - Aenue -> Avenue\n",
    "    - Avneue -> Avenue\n",
    "    - Ajunied -> Aljunied\n",
    "    - Aliasr -> Alias\n",
    "    - Gelyang -> Geylang\n",
    "    - Ridgwood -> Ridgewood\n",
    "    - Roadc -> Road\n",
    "\n",
    "- UpperCase Words\n",
    "    - AveNue -> Avenue\n"
   ]
  },
  {
   "cell_type": "markdown",
   "metadata": {},
   "source": [
    "Also, I revised the expected variable of 3_audit.py, so that it covers the following Malay words for street name: "
   ]
  },
  {
   "cell_type": "markdown",
   "metadata": {},
   "source": [
    "- Other languages names\n",
    "    - Jalan -> road\n",
    "    - Lorong -> path\n",
    "    - Lengkong -> curve"
   ]
  },
  {
   "cell_type": "markdown",
   "metadata": {},
   "source": [
    "## 2-2. Abbreviations"
   ]
  },
  {
   "cell_type": "markdown",
   "metadata": {},
   "source": [
    "This is the updated mapping variable. I have created this dictionary to translate the abbreviations into those proper long expression."
   ]
  },
  {
   "cell_type": "markdown",
   "metadata": {
    "collapsed": true
   },
   "source": [
    "mapping =   \n",
    "{'St': 'Street',    \n",
    "           'St.': 'Street',  \n",
    "           'Ave': 'Avenue',  \n",
    "           'Rd.': 'Road',  \n",
    "           'Rd' : 'Road',  \n",
    "           'rd' : 'Road',  \n",
    "           'jln' : 'Jalan',  \n",
    "           'Jln' : 'Jalan',  \n",
    "           'Lor' : 'Lorong : path',  \n",
    "           'Blk' : 'Block',  \n",
    "           'blk' : 'Block',  \n",
    "           'Cl' : 'Close',  \n",
    "           'Dr' : 'Drive',  \n",
    "           'Bkt' : 'Bukit',  \n",
    "           'Bt' : 'Bukit',  \n",
    "           'Upp' : 'Upper'}"
   ]
  },
  {
   "cell_type": "markdown",
   "metadata": {
    "collapsed": true
   },
   "source": [
    "Abbreviation is corrected by replacing the abbreviated words with correct long expressions."
   ]
  },
  {
   "cell_type": "markdown",
   "metadata": {
    "collapsed": true
   },
   "source": [
    "## 2-2. Inconsistent postal codes "
   ]
  },
  {
   "cell_type": "markdown",
   "metadata": {},
   "source": [
    "I run the following codes on terminal with sqlite3 to show postal codes."
   ]
  },
  {
   "cell_type": "code",
   "execution_count": null,
   "metadata": {
    "collapsed": true
   },
   "outputs": [],
   "source": [
    "%load_ext sql"
   ]
  },
  {
   "cell_type": "code",
   "execution_count": null,
   "metadata": {
    "collapsed": true
   },
   "outputs": [],
   "source": [
    "%%sql\n",
    "SELECT tags.value, COUNT(*) as count\n",
    "FROM (SELECT * FROM nodes_tags\n",
    "\t  UNION\n",
    "      SELECT * FROM ways_tags) tags\n",
    "WHERE tags.key='postcode'\n",
    "GROUP BY tags.value\n",
    "ORDER BY count DESC;\n"
   ]
  },
  {
   "cell_type": "markdown",
   "metadata": {},
   "source": [
    "As a result:  \n",
    "039594|4\n",
    "120106|2\n",
    "129588|2\n",
    "179030|2\n",
    "187965|2\n",
    "278115|2\n",
    "449269|2\n",
    "469001|2\n",
    "569830|2\n",
    "588177|2\n",
    "598749|2\n",
    "640498|2\n",
    "640638|2\n",
    "688692|2\n",
    "689810|2\n",
    "038988|1\n",
    "039799|1\n",
    "039803|1\n",
    "049864|1\n",
    "059389|1\n",
    "118177|1\n",
    "119080|1\n",
    "119082|1\n",
    "119219|1\n",
    "119613|1\n",
    "120206|1\n",
    "120301|1\n",
    "120302|1\n",
    "120310|1\n",
    "120331|1\n",
    "120340|1\n",
    "120350|1\n",
    "120357|1\n",
    "120367|1\n",
    "120381|1\n",
    "120414|1\n",
    "120417|1\n",
    "120426|1\n",
    "120428|1\n",
    "120446|1\n",
    "120451|1\n",
    "120455|1\n",
    "120466|1\n",
    "120506|1\n",
    "120512|1\n",
    "120516|1\n",
    "120605|1\n",
    "120609|1\n",
    "120708|1\n",
    "120721|1\n",
    "122209|1\n",
    "122311|1\n",
    "123312|1\n",
    "127158|1\n",
    "127999|1\n",
    "128355|1\n",
    "129580|1\n",
    "129956|1\n",
    "130005|1\n",
    "130017|1\n",
    "130027|1\n",
    "130028|1\n",
    "135|1\n",
    "138588|1\n",
    "138617|1\n",
    "138648|1\n",
    "138669|1\n",
    "138673|1\n",
    "138839|1\n",
    "140045|1\n",
    "140132|1\n",
    "140149|1\n",
    "140158|1\n",
    "140167|1\n",
    "141019|1\n",
    "141055|1\n",
    "141085|1\n",
    "141087|1\n",
    "144091|1\n",
    "148951|1\n",
    "149061|1\n",
    "149544|1\n",
    "149732|1\n",
    "150053|1\n",
    "150079|1\n",
    "158750|1\n",
    "159012|1\n",
    "159924|1\n",
    "159945|1\n",
    "159950|1\n",
    "159956|1\n",
    "159960|1\n",
    "169663|1\n",
    "178895|1\n",
    "179024|1\n",
    "179031|1\n",
    "179103|1\n",
    "179369|1\n",
    "179429|1\n",
    "188329|1\n",
    "188505|1\n",
    "188537|1\n",
    "188592|1\n",
    "188980|1\n",
    "189560|1\n",
    "189619|1\n",
    "189673|1\n",
    "189699|1\n",
    "198497|1\n",
    "198501|1\n",
    "199149|1\n",
    "199207|1\n",
    "199323|1\n",
    "199588|1\n",
    "207229|1\n",
    "207551|1\n",
    "207569|1\n",
    "207630|1\n",
    "208524|1\n",
    "208532|1\n",
    "208786|1\n",
    "209210|1\n",
    "209664|1\n",
    "209924|1\n",
    "217562|1\n",
    "217567|1\n",
    "218578|1\n",
    "219458|1\n",
    "228091|1\n",
    "228210|1\n",
    "228211|1\n",
    "228517|1\n",
    "229813|1\n",
    "237983|1\n",
    "237994|1\n",
    "238372|1\n",
    "238853|1\n",
    "238857|1\n",
    "238870|1\n",
    "238874|1\n",
    "238884|1\n",
    "238895|1\n",
    "238896|1\n",
    "247911|1\n",
    "247913|1\n",
    "247964|1\n",
    "247966|1\n",
    "248322|1\n",
    "249679|1\n",
    "259281|1\n",
    "259366|1\n",
    "259595|1\n",
    "259772|1\n",
    "259954|1\n",
    "269707|1\n",
    "270008|1\n",
    "275764|1\n",
    "276954|1\n",
    "277116|1\n",
    "278621|1\n",
    "288162|1\n",
    "288683|1\n",
    "298186|1\n",
    "307470|1\n",
    "307506|1\n",
    "308232|1\n",
    "308433|1\n",
    "310120|1\n",
    "310190|1\n",
    "310520|1\n",
    "319191|1\n",
    "319258|1\n",
    "319757|1\n",
    "320009|1\n",
    "320097|1\n",
    "320099|1\n",
    "322101|1\n",
    "324108|1\n",
    "327874|1\n",
    "328836|1\n",
    "329901|1\n",
    "330073|1\n",
    "330095|1\n",
    "339096|1\n",
    "339914|1\n",
    "347694|1\n",
    "349323|1\n",
    "350131|1\n",
    "350143|1\n",
    "357844|1\n",
    "368125|1\n",
    "370033|1\n",
    "370086|1\n",
    "380018|1\n",
    "380045|1\n",
    "387416|1\n",
    "387440|1\n",
    "387494|1\n",
    "389200|1\n",
    "389226|1\n",
    "389752|1\n",
    "390041|1\n",
    "390051|1\n",
    "398738|1\n",
    "398824|1\n",
    "399043|1\n",
    "399096|1\n",
    "399121|1\n",
    "399719|1\n",
    "399772|1\n",
    "400343|1\n",
    "400411|1\n",
    "408654|1\n",
    "409009|1\n",
    "409075|1\n",
    "409179|1\n",
    "410101|1\n",
    "410111|1\n",
    "417943|1\n",
    "418472|1\n",
    "418730|1\n",
    "419529|1\n",
    "427726|1\n",
    "428996|1\n",
    "429538|1\n",
    "438859|1\n",
    "439012|1\n",
    "440083|1\n",
    "448880|1\n",
    "449282|1\n",
    "460212|1\n",
    "460510|1\n",
    "465492|1\n",
    "467352|1\n",
    "468980|1\n",
    "468982|1\n",
    "469032|1\n",
    "469626|1\n",
    "469680|1\n",
    "469718|1\n",
    "470104|1\n",
    "470109|1\n",
    "470602|1\n",
    "470613|1\n",
    "470618|1\n",
    "470632|1\n",
    "479220|1\n",
    "479266|1\n",
    "510721|1\n",
    "510737|1\n",
    "510752|1\n",
    "510756|1\n",
    "510764|1\n",
    "510767|1\n",
    "510772|1\n",
    "520728|1\n",
    "520733|1\n",
    "520829|1\n",
    "520871|1\n",
    "520877|1\n",
    "528933|1\n",
    "530106|1\n",
    "530110|1\n",
    "530211|1\n",
    "530356|1\n",
    "530558|1\n",
    "534057|1\n",
    "538692|1\n",
    "538830|1\n",
    "538884|1\n",
    "539775|1\n",
    "539975|1\n",
    "541162|1\n",
    "541279|1\n",
    "541281|1\n",
    "541305|1\n",
    "541331|1\n",
    "541336|1\n",
    "542331|1\n",
    "543301|1\n",
    "543334|1\n",
    "544305|1\n",
    "544338|1\n",
    "544690|1\n",
    "545078|1\n",
    "545079|1\n",
    "547809|1\n",
    "550153|1\n",
    "550241|1\n",
    "550261|1\n",
    "556111|1\n",
    "556114|1\n",
    "556123|1\n",
    "560202|1\n",
    "560233|1\n",
    "560532|1\n",
    "563226|1\n",
    "567749|1\n",
    "569061|1\n",
    "569250|1\n",
    "569277|1\n",
    "569405|1\n",
    "569663|1\n",
    "569843|1\n",
    "569920|1\n",
    "569933|1\n",
    "570123|1\n",
    "570164|1\n",
    "570175|1\n",
    "570282|1\n",
    "573911|1\n",
    "573916|1\n",
    "579782|1\n",
    "579827|1\n",
    "587976|1\n",
    "588179|1\n",
    "588192|1\n",
    "588216|1\n",
    "588996|1\n",
    "590010|1\n",
    "596468|1\n",
    "597610|1\n",
    "598381|1\n",
    "598390|1\n",
    "598436|1\n",
    "598480|1\n",
    "598490|1\n",
    "600031|1\n",
    "600038|1\n",
    "600130|1\n",
    "600135|1\n",
    "608549|1\n",
    "608567|1\n",
    "609606|1\n",
    "609961|1\n",
    "609967|1\n",
    "610140|1\n",
    "610151|1\n",
    "610161|1\n",
    "610176|1\n",
    "610181|1\n",
    "610399|1\n",
    "611337|1\n",
    "618656|1\n",
    "640526|1\n",
    "640762|1\n",
    "640815|1\n",
    "640827|1\n",
    "640831|1\n",
    "640836|1\n",
    "640962|1\n",
    "640966|1\n",
    "641601|1\n",
    "642659|1\n",
    "648346|1\n",
    "648886|1\n",
    "648967|1\n",
    "649040|1\n",
    "649846|1\n",
    "650108|1\n",
    "650117|1\n",
    "650120|1\n",
    "650140|1\n",
    "650148|1\n",
    "650156|1\n",
    "650165|1\n",
    "650184|1\n",
    "650188|1\n",
    "650209|1\n",
    "650220|1\n",
    "650227|1\n",
    "650233|1\n",
    "650237|1\n",
    "650241|1\n",
    "650243|1\n",
    "650252|1\n",
    "650264|1\n",
    "650274|1\n",
    "650292|1\n",
    "650307|1\n",
    "650322|1\n",
    "650323|1\n",
    "650352|1\n",
    "650362|1\n",
    "650366|1\n",
    "650385|1\n",
    "650413|1\n",
    "650431|1\n",
    "650434|1\n",
    "650435|1\n",
    "650447|1\n",
    "650468|1\n",
    "650530|1\n",
    "650537|1\n",
    "650620|1\n",
    "651194|1\n",
    "651443|1\n",
    "651453|1\n",
    "652438|1\n",
    "652461|1\n",
    "652463|1\n",
    "653293|1\n",
    "653449|1\n",
    "653450|1\n",
    "654440|1\n",
    "656290|1\n",
    "658079|1\n",
    "658713|1\n",
    "659003|1\n",
    "659163|1\n",
    "659204|1\n",
    "659289|1\n",
    "659440|1\n",
    "659528|1\n",
    "659578|1\n",
    "659920|1\n",
    "670143|1\n",
    "670184|1\n",
    "670257|1\n",
    "670445|1\n",
    "670628|1\n",
    "677670|1\n",
    "677737|1\n",
    "677742|1\n",
    "677899|1\n",
    "679938|1\n",
    "680116|1\n",
    "680253|1\n",
    "688688|1\n",
    "688690|1\n",
    "688691|1\n",
    "688695|1\n",
    "688848|1\n",
    "688892|1\n",
    "689379|1\n",
    "689814|1\n",
    "698918|1\n",
    "719164|1\n",
    "730900|1\n",
    "732570|1\n",
    "737888|1\n",
    "760103|1\n",
    "760323|1\n",
    "760362|1\n",
    "760866|1\n",
    "768675|1\n",
    "768857|1\n",
    "769028|1\n",
    "769092|1\n",
    "787113|1\n",
    "790452|1\n",
    "790454|1\n",
    "791408|1\n",
    "791418|1\n",
    "791435|1\n",
    "791445|1\n",
    "792411|1\n",
    "793405|1\n",
    "797650|1\n",
    "798725|1\n",
    "798727|1\n",
    "798731|1\n",
    "798755|1\n",
    "798762|1\n",
    "798781|1\n",
    "799059|1\n",
    "799067|1\n",
    "799070|1\n",
    "799072|1\n",
    "799106|1\n",
    "799296|1\n",
    "799507|1\n",
    "805073|1\n",
    "805302|1\n",
    "805418|1\n",
    "805419|1\n",
    "805434|1\n",
    "805444|1\n",
    "805467|1\n",
    "805483|1\n",
    "805493|1\n",
    "805499|1\n",
    "805502|1\n",
    "805505|1\n",
    "805514|1\n",
    "805523|1\n",
    "805658|1\n",
    "805660|1\n",
    "805672|1\n",
    "805684|1\n",
    "805697|1\n",
    "805708|1\n",
    "805716|1\n",
    "805729|1\n",
    "805731|1\n",
    "805733|1\n",
    "805741|1\n",
    "805746|1\n",
    "805758|1\n",
    "805764|1\n",
    "805774|1\n",
    "805794|1\n",
    "805824|1\n",
    "805911|1\n",
    "805917|1\n",
    "805923|1\n",
    "805935|1\n",
    "805980|1\n",
    "805993|1\n",
    "806014|1\n",
    "806036|1\n",
    "806048|1\n",
    "806049|1\n",
    "806052|1\n",
    "806075|1\n",
    "806092|1\n",
    "806097|1\n",
    "806118|1\n",
    "806128|1\n",
    "806759|1\n",
    "806767|1\n",
    "806795|1\n",
    "806797|1\n",
    "806818|1\n",
    "806845|1\n",
    "806873|1\n",
    "806876|1\n",
    "806886|1\n",
    "806892|1\n",
    "806895|1\n",
    "807001|1\n",
    "807008|1\n",
    "807248|1\n",
    "807252|1\n",
    "807272|1\n",
    "807288|1\n",
    "807294|1\n",
    "807295|1\n",
    "807300|1\n",
    "807312|1\n",
    "807313|1\n",
    "807325|1\n",
    "807349|1\n",
    "807380|1\n",
    "807384|1\n",
    "807396|1\n",
    "807398|1\n",
    "807402|1\n",
    "807404|1\n",
    "807420|1\n",
    "807438|1\n",
    "807451|1\n",
    "807452|1\n",
    "807458|1\n",
    "807512|1\n",
    "807519|1\n",
    "807543|1\n",
    "807550|1\n",
    "807558|1\n",
    "807611|1\n",
    "807612|1\n",
    "807616|1\n",
    "807654|1\n",
    "807659|1\n",
    "807669|1\n",
    "807695|1\n",
    "807697|1\n",
    "807714|1\n",
    "807736|1\n",
    "807747|1\n",
    "807748|1\n",
    "807775|1\n",
    "807792|1\n",
    "807807|1\n",
    "807810|1\n",
    "807813|1\n",
    "807827|1\n",
    "807836|1\n",
    "807839|1\n",
    "807870|1\n",
    "807885|1\n",
    "807888|1\n",
    "807889|1\n",
    "807898|1\n",
    "807904|1\n",
    "807925|1\n",
    "807936|1\n",
    "807940|1\n",
    "807954|1\n",
    "807977|1\n",
    "807989|1\n",
    "808001|1\n",
    "808002|1\n",
    "808015|1\n",
    "808026|1\n",
    "808034|1\n",
    "808042|1\n",
    "808076|1\n",
    "808141|1\n",
    "808144|1\n",
    "808148|1\n",
    "808195|1\n",
    "808216|1\n",
    "808223|1\n",
    "808227|1\n",
    "808267|1\n",
    "808270|1\n",
    "808287|1\n",
    "808288|1\n",
    "808294|1\n",
    "808306|1\n",
    "808317|1\n",
    "808331|1\n",
    "808340|1\n",
    "809428|1\n",
    "809441|1\n",
    "809456|1\n",
    "809461|1\n",
    "809478|1\n",
    "809504|1\n",
    "809513|1\n",
    "809518|1\n",
    "809552|1\n",
    "809766|1\n",
    "809769|1\n",
    "809777|1\n",
    "809781|1\n",
    "809802|1\n",
    "809843|1\n",
    "809855|1\n",
    "809858|1\n",
    "809860|1\n",
    "809864|1\n",
    "809868|1\n",
    "809888|1\n",
    "809893|1\n",
    "809910|1\n",
    "809914|1\n",
    "809946|1\n",
    "809947|1\n",
    "809948|1\n",
    "809951|1\n",
    "809952|1\n",
    "809975|1\n",
    "809984|1\n",
    "820050|1\n",
    "820053|1\n",
    "820061|1\n",
    "820070|1\n",
    "820077|1\n",
    "820104|1\n",
    "820132|1\n",
    "820218|1\n",
    "820228|1\n",
    "820266|1\n",
    "820271|1\n",
    "820312|1\n",
    "820324|1\n",
    "820326|1\n",
    "820420|1\n",
    "820651|1\n",
    "820659|1\n",
    "820660|1\n",
    "820671|1\n",
    "821207|1\n",
    "821212|1\n",
    "821232|1\n",
    "821259|1\n",
    "821316|1\n",
    "821321|1\n",
    "821408|1\n",
    "821622|1\n",
    "821632|1\n",
    "821637|1\n",
    "821661|1\n",
    "821663|1\n",
    "821673|1\n",
    "821676|1\n",
    "822224|1\n",
    "822258|1\n",
    "822270|1\n",
    "822411|1\n",
    "822415|1\n",
    "822422|1\n",
    "822423|1\n",
    "822621|1\n",
    "822641|1\n",
    "822667|1\n",
    "822672|1\n",
    "822678|1\n",
    "822683|1\n",
    "823209|1\n",
    "823256|1\n",
    "823267|1\n",
    "823617|1\n",
    "823670|1\n",
    "823683|1\n",
    "824274|1\n",
    "828716|1\n",
    "828730|1\n",
    "828812|1\n",
    "<different>|1\n",
    "Bukit Batok Street 25|1\n",
    "S 642683|1\n",
    "Singapore 408564|1"
   ]
  },
  {
   "cell_type": "markdown",
   "metadata": {},
   "source": [
    "Postal codes in Singapore are ruled as 6 digits and made up with the 2 digits sector code and the 4 digits delivery point. There are 81 sectors in total.  \n",
    "Judging from this fact most of the postal codes are correct, but there are a few inconsistencies:"
   ]
  },
  {
   "cell_type": "markdown",
   "metadata": {
    "collapsed": true
   },
   "source": [
    "- 3 digits code: 135\n",
    "- larger number of secotor code than 81: 820050, 820053, 820061 etc."
   ]
  },
  {
   "cell_type": "markdown",
   "metadata": {},
   "source": [
    "### 3 digits code"
   ]
  },
  {
   "cell_type": "markdown",
   "metadata": {
    "collapsed": true
   },
   "source": [
    "I tried to run some sql codes to get more info about this 3 digits postal code."
   ]
  },
  {
   "cell_type": "code",
   "execution_count": null,
   "metadata": {
    "collapsed": true
   },
   "outputs": [],
   "source": [
    "%%sql\n",
    "SELECT * \n",
    "FROM nodes_tags \n",
    "WHERE key = 'postcode' AND value = '135';"
   ]
  },
  {
   "cell_type": "markdown",
   "metadata": {
    "collapsed": true
   },
   "source": [
    "As a result:  \n",
    "1318498347|postcode|135|addr"
   ]
  },
  {
   "cell_type": "markdown",
   "metadata": {},
   "source": [
    "With the id 1318498347, I could get even more info by running the codes below."
   ]
  },
  {
   "cell_type": "code",
   "execution_count": null,
   "metadata": {
    "collapsed": true,
    "scrolled": true
   },
   "outputs": [],
   "source": [
    "%%sql\n",
    "SELECT * FROM nodes_tags WHERE id = '1318498347';"
   ]
  },
  {
   "cell_type": "markdown",
   "metadata": {},
   "source": [
    "1318498347|postcode|135|addr  \n",
    "1318498347|street|Jln Pelatina|addr  \n",
    "1318498347|building|yes|regular  "
   ]
  },
  {
   "cell_type": "markdown",
   "metadata": {},
   "source": [
    "As results only show the location is on 'Jalan Pelantina', I needed more information to get its specific postal code."
   ]
  },
  {
   "cell_type": "code",
   "execution_count": null,
   "metadata": {
    "collapsed": true
   },
   "outputs": [],
   "source": [
    "%%sql\n",
    "SELECT * FROM nodes WHERE id = '1318498347';"
   ]
  },
  {
   "cell_type": "markdown",
   "metadata": {},
   "source": [
    "1318498347|1.3504999|103.8347008|oeoeoe|178837|1|8394625|2011-06-10T07:12:04Z"
   ]
  },
  {
   "cell_type": "markdown",
   "metadata": {},
   "source": [
    "latitudes = '1.3504999', longitude = '103.8347008'"
   ]
  },
  {
   "cell_type": "markdown",
   "metadata": {
    "collapsed": true
   },
   "source": [
    "So, the postal code at the plot of (latitudes = '1.3504999', longitude = '103.8347008') is '577269' and I corrected the code with following query."
   ]
  },
  {
   "cell_type": "code",
   "execution_count": null,
   "metadata": {
    "collapsed": true
   },
   "outputs": [],
   "source": [
    "%%sql\n",
    "UPDATE nodes_tags SET value= 577269 WHERE value=\"135\" and key =\"postcode\" and type='addr';"
   ]
  },
  {
   "cell_type": "markdown",
   "metadata": {},
   "source": [
    "### Larger number than 82"
   ]
  },
  {
   "cell_type": "markdown",
   "metadata": {},
   "source": [
    "I searched more detailed story about postal codes in Singapore, then I found interesting fact behind. They use from 01 to 82 to represent each sector, skipping 74. 74 is considered as very unlucky number because it sounds like \"will certainly die\" or \"will die in anger\" (氣死) in Chinese. So as long as there is no postal codes starting from 74, which is not there within the results above, the postal code data is correct. "
   ]
  },
  {
   "cell_type": "markdown",
   "metadata": {},
   "source": [
    "## 3. Sort cities by count, descending"
   ]
  },
  {
   "cell_type": "code",
   "execution_count": null,
   "metadata": {
    "collapsed": true
   },
   "outputs": [],
   "source": [
    "%%sql\n",
    "SELECT tags.value, COUNT(*) as count\n",
    "FROM (SELECT * FROM nodes_tags UNION ALL\n",
    "      SELECT * FROM ways_tags) tags\n",
    "WHERE tags.key LIKE '%city'\n",
    "GROUP BY tags.value\n",
    "ORDER BY count DESC;"
   ]
  },
  {
   "cell_type": "markdown",
   "metadata": {},
   "source": [
    "Results,"
   ]
  },
  {
   "cell_type": "markdown",
   "metadata": {
    "collapsed": true
   },
   "source": [
    "Singapore|1322　　   \n",
    "2|4　　  \n",
    "3|2　　  \n",
    "4|2　            　\n",
    "#01-62|1　　   \n",
    "1|1　　      \n",
    "15|1　　    \n",
    "16|1　　     \n",
    "262|1　　     \n",
    "30|1　　      \n",
    "5|1　　      \n",
    "593|1　　      \n",
    "Ang Mo Kio|1\n",
    "\n",
    "Pasir Gudang|1　　      \n",
    "Sembawang|1　　      \n",
    "singapore|1　　      "
   ]
  },
  {
   "cell_type": "markdown",
   "metadata": {},
   "source": [
    "The first letter of 'singapore' is corrected as 'Singapore' with the following query."
   ]
  },
  {
   "cell_type": "code",
   "execution_count": null,
   "metadata": {
    "collapsed": true
   },
   "outputs": [],
   "source": [
    "%%sql\n",
    "UPDATE ways_tags\n",
    "SET value= 'Singapore'\n",
    "WHERE value='singapore' and key LIKE '%city';"
   ]
  },
  {
   "cell_type": "markdown",
   "metadata": {},
   "source": [
    "## 4. Data Overview"
   ]
  },
  {
   "cell_type": "markdown",
   "metadata": {},
   "source": [
    "## 4-1. File sizes: "
   ]
  },
  {
   "cell_type": "markdown",
   "metadata": {},
   "source": [
    "- singapore.osm: 255.1 MB \n",
    "- nodes.csv: 78.4 MB\n",
    "- nodes_tags.csv: 3.5 MB\n",
    "- ways.csv: 9.1 MB\n",
    "- ways_nodes.csv: 28.9 MB\n",
    "- ways_tags.csv: 14.5 MB\n",
    "- singapore.db: 116.6 MB\n"
   ]
  },
  {
   "cell_type": "markdown",
   "metadata": {},
   "source": [
    "## 4-2. Open database"
   ]
  },
  {
   "cell_type": "markdown",
   "metadata": {},
   "source": [
    "In terminal:"
   ]
  },
  {
   "cell_type": "markdown",
   "metadata": {},
   "source": [
    "sqlite3 singapore.db"
   ]
  },
  {
   "cell_type": "markdown",
   "metadata": {},
   "source": [
    "## 4-3. Numer of nodes"
   ]
  },
  {
   "cell_type": "code",
   "execution_count": null,
   "metadata": {
    "collapsed": true
   },
   "outputs": [],
   "source": [
    "%%sql\n",
    "SELECT COUNT (*) FROM nodes;  "
   ]
  },
  {
   "cell_type": "markdown",
   "metadata": {},
   "source": [
    "It resulted in 94435 nodes."
   ]
  },
  {
   "cell_type": "markdown",
   "metadata": {},
   "source": [
    "## 4-4. Numer of ways"
   ]
  },
  {
   "cell_type": "code",
   "execution_count": null,
   "metadata": {
    "collapsed": true
   },
   "outputs": [],
   "source": [
    "%%sql\n",
    "SELECT COUNT (*) FROM ways;"
   ]
  },
  {
   "cell_type": "markdown",
   "metadata": {},
   "source": [
    "It resulted in 15103 ways."
   ]
  },
  {
   "cell_type": "markdown",
   "metadata": {},
   "source": [
    "## 4-5. Numer of unique users"
   ]
  },
  {
   "cell_type": "code",
   "execution_count": null,
   "metadata": {
    "collapsed": true
   },
   "outputs": [],
   "source": [
    "%%sql\n",
    "SELECT COUNT (DISTINCT(e.uid)) \n",
    "FROM (SELECT uid FROM nodes UNION ALL SELECT uid FROM ways) e;"
   ]
  },
  {
   "cell_type": "markdown",
   "metadata": {},
   "source": [
    "It resulted in 797 unique users."
   ]
  },
  {
   "cell_type": "markdown",
   "metadata": {},
   "source": [
    "## 4-6. Top contributing users"
   ]
  },
  {
   "cell_type": "code",
   "execution_count": null,
   "metadata": {
    "collapsed": true
   },
   "outputs": [],
   "source": [
    "%%sql\n",
    "SELECT e.user, COUNT(*) as num\n",
    "FROM (SELECT user FROM nodes UNION ALL SELECT user FROM ways) e\n",
    "GROUP BY e.user\n",
    "ORDER BY num DESC\n",
    "LIMIT 10;\n"
   ]
  },
  {
   "cell_type": "markdown",
   "metadata": {},
   "source": [
    "As a result:  \n",
    "JaLooNz|24793  \n",
    "happy-camper|5686  \n",
    "cboothroyd|3909  \n",
    "Luis36995|3698  \n",
    "ridixcr|3489  \n",
    "CapAhab|3132  \n",
    "Evandering|3037  \n",
    "geoJenn|2791  \n",
    "Lilles|2634  \n",
    "KartoSliwka|2426  "
   ]
  },
  {
   "cell_type": "markdown",
   "metadata": {},
   "source": [
    "## 4-5. Numer of users contributing only once"
   ]
  },
  {
   "cell_type": "code",
   "execution_count": null,
   "metadata": {
    "collapsed": true
   },
   "outputs": [],
   "source": [
    "%%sql\n",
    "SELECT COUNT(*)\n",
    "FROM\n",
    "    (SELECT e.user, COUNT(*) as num\n",
    "     FROM (SELECT user FROM nodes UNION ALL SELECT user FROM ways) e\n",
    "     GROUP BY e.user\n",
    "     HAVING num=1) u;"
   ]
  },
  {
   "cell_type": "markdown",
   "metadata": {
    "collapsed": true
   },
   "source": [
    "It resulted in 261 users who contributed only once."
   ]
  },
  {
   "cell_type": "markdown",
   "metadata": {},
   "source": [
    "## 5. Additional Ideas"
   ]
  },
  {
   "cell_type": "markdown",
   "metadata": {},
   "source": [
    "## 5-1. Common ammenities:"
   ]
  },
  {
   "cell_type": "code",
   "execution_count": null,
   "metadata": {
    "collapsed": true
   },
   "outputs": [],
   "source": [
    "%%sql\n",
    "SELECT value, COUNT(*) as num \n",
    "FROM nodes_tags \n",
    "WHERE key = 'amenity' \n",
    "GROUP BY value \n",
    "ORDER BY num DESC \n",
    "LIMIT 10;\n"
   ]
  },
  {
   "cell_type": "markdown",
   "metadata": {},
   "source": [
    "Here are the results:  \n",
    "restaurant|122  \n",
    "atm|62  \n",
    "parking|37  \n",
    "parking_entrance|37  \n",
    "cafe|30  \n",
    "fast_food|27  \n",
    "taxi|22  \n",
    "shelter|16  \n",
    "bench|15  \n",
    "toilets|14  "
   ]
  },
  {
   "cell_type": "markdown",
   "metadata": {},
   "source": [
    "The most common ammenities are restaurants, followed by atms and parkings. It was a little surprise to me that there are less cafes than parkings, since driving cars are comparatively costly in Singapore."
   ]
  },
  {
   "cell_type": "markdown",
   "metadata": {},
   "source": [
    "## 6. Conclusion"
   ]
  },
  {
   "cell_type": "markdown",
   "metadata": {
    "collapsed": true
   },
   "source": [
    "The OpenStreetMapa data of Singapore area is fairly correct but better understandings towards its mixed culture to revise further, since both Malay / Chinese culture and languages are affecting the map data."
   ]
  },
  {
   "cell_type": "markdown",
   "metadata": {},
   "source": [
    "## 7. Additional Suggetion and Ideas"
   ]
  },
  {
   "cell_type": "markdown",
   "metadata": {},
   "source": [
    "I found several entries with foreign languages such as probably Tamil (i.e. செம்பவாங் விமானத் தளம்) and Korean (i.e. 마리나 베이 저수), as　I looked through the singapore osm data. Controlling languages or at least letters used for map data will benefit users' readability. However, it might be hard to cover all the languages used to update osm data. "
   ]
  },
  {
   "cell_type": "markdown",
   "metadata": {
    "collapsed": true
   },
   "source": [
    "## Files"
   ]
  },
  {
   "cell_type": "markdown",
   "metadata": {
    "collapsed": true
   },
   "source": [
    "- README.ipynb: this file\n",
    "- README.pdf: pdf version of this file\n",
    "- singapore.osm: available to download from this website https://www.openstreetmap.org/search?query=singapore#map=11/1.2904/103.8517\n",
    "- 1_mapparser.py: find unique tags in the data\n",
    "- 2_tags.py: find errors in the data\n",
    "- 3_audit.py: audit atreet, city and update their names\n",
    "- 4_create_db.ipynb: create csv files from osm data and create database using those csv files\n",
    "- 4_create_db.py: python version of 4_create_db.ipynb \n",
    "- schema.py: supplied schema to create database"
   ]
  },
  {
   "cell_type": "markdown",
   "metadata": {
    "collapsed": true
   },
   "source": [
    "## References"
   ]
  },
  {
   "cell_type": "markdown",
   "metadata": {
    "collapsed": true
   },
   "source": [
    "1. [carlward/sample_project.md](https://gist.github.com/carlward/54ec1c91b62a5f911c42#file-sample_project-md)\n",
    "2. [mabelvj/data-analyst-nanodegree](https://github.com/mabelvj/data-analyst-nanodegree/tree/master/P3-wrangle-openstreetmap-data/Project_3_OpenStreetMap_SQL)"
   ]
  }
 ],
 "metadata": {
  "kernelspec": {
   "display_name": "Python 3",
   "language": "python",
   "name": "python3"
  },
  "language_info": {
   "codemirror_mode": {
    "name": "ipython",
    "version": 3
   },
   "file_extension": ".py",
   "mimetype": "text/x-python",
   "name": "python",
   "nbconvert_exporter": "python",
   "pygments_lexer": "ipython3",
   "version": "3.7.0"
  }
 },
 "nbformat": 4,
 "nbformat_minor": 2
}
