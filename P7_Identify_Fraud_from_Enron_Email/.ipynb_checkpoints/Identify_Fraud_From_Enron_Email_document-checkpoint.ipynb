{
 "cells": [
  {
   "cell_type": "markdown",
   "metadata": {},
   "source": [
    "## 1. Summary"
   ]
  },
  {
   "cell_type": "markdown",
   "metadata": {},
   "source": [
    "<font color=\"DimGray\">Summarize for us the goal of this project and how machine learning is useful in trying to accomplish it. As part of your answer, give some background on the dataset and how it can be used to answer the project question. Were there any outliers in the data when you got it, and how did you handle those?  [relevant rubric items: “data exploration”, “outlier investigation”]</font>"
   ]
  },
  {
   "cell_type": "markdown",
   "metadata": {},
   "source": [
    "This is the final project of Udacity Data Analyst nanodegree program's \"Intro to Machine Learning\" session. A goal of this project is to identify people who have involved in the fraud during the Enron Scandal, which led one of the largest company in the US into bancruptcy within two years. Here, we use records from the Federal Investigation, such as tens of thousands of emails and detailed financial data for top executives, to build an algorithm to identify people of interest. "
   ]
  },
  {
   "cell_type": "markdown",
   "metadata": {},
   "source": [
    "These are the three categories and the features included in the data:\n",
    "\n",
    "**financial features:** \n",
    "['salary', 'deferral_payments', 'total_payments', 'loan_advances', 'bonus', 'restricted_stock_deferred', 'deferred_income', 'total_stock_value', 'expenses', 'exercised_stock_options', 'other', 'long_term_incentive', 'restricted_stock', 'director_fees'] (all units are in US dollars)\n",
    "\n",
    "\n",
    "**email features:**\n",
    "['to_messages', 'email_address', 'from_poi_to_this_person', 'from_messages', 'from_this_person_to_poi', 'shared_receipt_with_poi'] (units are generally number of emails messages; notable exception is ‘email_address’, which is a text string)\n",
    "\n",
    "\n",
    "**POI label:**\n",
    "[‘poi’] (boolean, represented as integer)"
   ]
  },
  {
   "cell_type": "markdown",
   "metadata": {},
   "source": [
    "## 2. Feature Selection"
   ]
  },
  {
   "cell_type": "markdown",
   "metadata": {},
   "source": [
    "<font color=\"DimGray\">What features did you end up using in your POI identifier, and what selection process did you use to pick them? Did you have to do any scaling? Why or why not? As part of the assignment, you should attempt to engineer your own feature that does not come ready-made in the dataset -- explain what feature you tried to make, and the rationale behind it. (You do not necessarily have to use it in the final analysis, only engineer and test it.) In your feature selection step, if you used an algorithm like a decision tree, please also give the feature importances of the features that you use, and if you used an automated feature selection function like SelectKBest, please report the feature scores and reasons for your choice of parameter values.  [relevant rubric items: “create new features”, “intelligently select features”, “properly scale features”]\n",
    "</font>"
   ]
  },
  {
   "cell_type": "markdown",
   "metadata": {},
   "source": [
    "I chose following 7 features at the first place: 'poi', 'total_stock_value', 'exercised_stock_options', 'restricted_stock_deferred', 'deferred_income', 'fraction_from_poi', 'fraction_to_poi'. The reasons I chose them are because people with more stock value would be motivated to be part of the fraud to raise the stock value, and that deferred compensation had likely been paid to people involved in fraud as a return.  \n",
    "Also, I created new feature data called 'from_poi_to_this_person' and 'from_this_person_to_poi'. Calculated with the to/from POI (numerator) and the number of all messages to/from a person (denominator), the returned fraction reflects the intimacy of the person with poi. People of interest are likely to contact each other to orchestrate the fraud more frequently than to non-poi."
   ]
  },
  {
   "cell_type": "markdown",
   "metadata": {},
   "source": [
    "## 3. Algorithm Selection"
   ]
  },
  {
   "cell_type": "markdown",
   "metadata": {},
   "source": [
    "<font color='DimGray'>\n",
    "What algorithm did you end up using? What other one(s) did you try? How did model performance differ between algorithms?  [relevant rubric item: “pick an algorithm”]\n",
    "</font>"
   ]
  },
  {
   "cell_type": "markdown",
   "metadata": {},
   "source": [
    "I have tried three algorithms which is suitable to classify data: GaussianNB( ) , svm.SVC( ) and DecisionTreeClassifier( )."
   ]
  },
  {
   "cell_type": "markdown",
   "metadata": {},
   "source": [
    "| Algorithm  | Accuracy   | Precision  | Recall   | F1 | F2 | Total predictions | True positives | False positives | False negatives | True negatives | \n",
    "|---|------------|------------|----------|----|----|-------------------|----------------|-----------------|---------------------|----------------|\n",
    "| NB         | 0.26571    | 0.16248    | 0.99650         | 0.27941   | 0.49171   | 14000   | 1993| 10273| 7  |  1727|\n",
    "| SVM        | \\*This algorithm did not work because of the lack of true positive predictions                       |\n",
    "| DT         | 0.78836    | 0.26246    | 0.26600         | 0.26422   | 0.26528   | 14000   | 532| 1495 | 1468| 10505|\n"
   ]
  },
  {
   "cell_type": "markdown",
   "metadata": {},
   "source": [
    "From the accuracy results of each classifier, I decided to select the Decision Tree for this analysis."
   ]
  },
  {
   "cell_type": "markdown",
   "metadata": {},
   "source": [
    "## 4. Tuning"
   ]
  },
  {
   "cell_type": "markdown",
   "metadata": {},
   "source": [
    "<font color='DimGray'>What does it mean to tune the parameters of an algorithm, and what can happen if you don’t do this well?  How did you tune the parameters of your particular algorithm? What parameters did you tune? (Some algorithms do not have parameters that you need to tune -- if this is the case for the one you picked, identify and briefly explain how you would have done it for the model that was not your final choice or a different model that does utilize parameter tuning, e.g. a decision tree classifier).  [relevant rubric items: “discuss parameter tuning”, “tune the algorithm”]</font>"
   ]
  },
  {
   "cell_type": "markdown",
   "metadata": {},
   "source": [
    "After selecting the algorithm, I tuned its parameters with GridSearch function of scikit-learn. As a result, best parameter for DecisionTreeClassifier( ) was {'min_samples_split': 2, 'max_depth': 2}. Since the min_samples_split = 2 is the default value for the classifier, I have specified just max_depth=2 to run the algorithm for the second time. By running clf = DecisionTreeClassifier(max_depth=2), the accuracy was improved."
   ]
  },
  {
   "cell_type": "markdown",
   "metadata": {},
   "source": [
    "## 5. Validation"
   ]
  },
  {
   "cell_type": "markdown",
   "metadata": {},
   "source": [
    "<font color='DimGray'>What is validation, and what’s a classic mistake you can make if you do it wrong? How did you validate your analysis?  [relevant rubric items: “discuss validation”, “validation strategy”]</font>"
   ]
  },
  {
   "cell_type": "markdown",
   "metadata": {},
   "source": [
    "During the validation session, I have checked the accuracy of the algorithm as a validation measurement. Other than the tester.py, I used KFold to conduct cross-validation. To avoid the imbalanced data are divided into data groups, randomization was done by adding the \"shuffle\" parameter. In this way, I could confirm that the accuracy has been increased after tuning."
   ]
  },
  {
   "cell_type": "markdown",
   "metadata": {},
   "source": [
    "## 6. Evaluation"
   ]
  },
  {
   "cell_type": "markdown",
   "metadata": {},
   "source": [
    "<font color='DimGray'>Give at least 2 evaluation metrics and your average performance for each of them.  Explain an interpretation of your metrics that says something human-understandable about your algorithm’s performance. [relevant rubric item: “usage of evaluation metrics”]</font>"
   ]
  },
  {
   "cell_type": "markdown",
   "metadata": {},
   "source": [
    "By running tester.py, I have received a result: Precision = 0.37668, Recall = 0.21000, F1 = 0.26966, F2 = 0.23039.　In this result, the precision score is the highest, which mean that the possibility of a false charge is lower than the one of missing genuine climinals."
   ]
  }
 ],
 "metadata": {
  "anaconda-cloud": {},
  "kernelspec": {
   "display_name": "Python [default]",
   "language": "python",
   "name": "python2"
  },
  "language_info": {
   "codemirror_mode": {
    "name": "ipython",
    "version": 2
   },
   "file_extension": ".py",
   "mimetype": "text/x-python",
   "name": "python",
   "nbconvert_exporter": "python",
   "pygments_lexer": "ipython2",
   "version": "2.7.12"
  }
 },
 "nbformat": 4,
 "nbformat_minor": 2
}
