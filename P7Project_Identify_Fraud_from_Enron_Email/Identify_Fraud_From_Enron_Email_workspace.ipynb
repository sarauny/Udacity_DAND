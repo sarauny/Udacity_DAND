{
 "cells": [
  {
   "cell_type": "code",
   "execution_count": 432,
   "metadata": {},
   "outputs": [],
   "source": [
    "# %load poi_id.py\n",
    "#!/usr/bin/python\n",
    "\n",
    "import sys\n",
    "import pickle\n",
    "sys.path.append(\"../tools/\")"
   ]
  },
  {
   "cell_type": "markdown",
   "metadata": {},
   "source": [
    "### Task 0: Data Overview "
   ]
  },
  {
   "cell_type": "code",
   "execution_count": 433,
   "metadata": {
    "collapsed": true
   },
   "outputs": [],
   "source": [
    "# read the all data\n",
    "## Load the dictionary containing the dataset\n",
    "with open(\"final_project_dataset.pkl\", \"r\") as data_file:\n",
    "    data_dict = pickle.load(data_file)\n"
   ]
  },
  {
   "cell_type": "code",
   "execution_count": 434,
   "metadata": {},
   "outputs": [
    {
     "name": "stdout",
     "output_type": "stream",
     "text": [
      "number of columns: 21\n",
      "name of the columns:\n",
      "Index([u'bonus', u'deferral_payments', u'deferred_income', u'director_fees', u'email_address',\n",
      "       u'exercised_stock_options', u'expenses', u'from_messages', u'from_poi_to_this_person',\n",
      "       u'from_this_person_to_poi', u'loan_advances', u'long_term_incentive', u'other', u'poi',\n",
      "       u'restricted_stock', u'restricted_stock_deferred', u'salary', u'shared_receipt_with_poi',\n",
      "       u'to_messages', u'total_payments', u'total_stock_value'],\n",
      "      dtype='object')\n",
      "number of non pois / pois: 128 / 18\n"
     ]
    }
   ],
   "source": [
    "# data overview\n",
    "import pandas as pd\n",
    "import numpy as np\n",
    "df = pd.DataFrame(data_dict)\n",
    "df = df.T\n",
    "number_of_non_poi, number_of_poi = df['poi'].value_counts()\n",
    "print \"number of columns:\", len(df.columns)\n",
    "print \"name of the columns:\\n\", df.columns\n",
    "print \"number of non pois / pois:\", number_of_non_poi, '/', number_of_poi\n"
   ]
  },
  {
   "cell_type": "code",
   "execution_count": 435,
   "metadata": {},
   "outputs": [
    {
     "name": "stdout",
     "output_type": "stream",
     "text": [
      "Number of missing values in data\n",
      "poi                            0\n",
      "total_stock_value             20\n",
      "total_payments                21\n",
      "email_address                 35\n",
      "restricted_stock              36\n",
      "exercised_stock_options       44\n",
      "salary                        51\n",
      "expenses                      51\n",
      "other                         53\n",
      "to_messages                   60\n",
      "shared_receipt_with_poi       60\n",
      "from_messages                 60\n",
      "from_poi_to_this_person       60\n",
      "from_this_person_to_poi       60\n",
      "bonus                         64\n",
      "long_term_incentive           80\n",
      "deferred_income               97\n",
      "deferral_payments            107\n",
      "restricted_stock_deferred    128\n",
      "director_fees                129\n",
      "loan_advances                142\n",
      "Name: nan, dtype: int64\n"
     ]
    }
   ],
   "source": [
    "all_features_list = df.columns\n",
    "nan_index = df.columns\n",
    "nan_columns = ['non_nan', 'nan', 'nan_poi','nan_non_poi', 'poi_nan_ratio', 'non_poi_nan_ratio']\n",
    "df_nan = pd.DataFrame(index=nan_index, columns=nan_columns)\n",
    "df_nan = df_nan.fillna(0)\n",
    "\n",
    "for i in all_features_list:\n",
    "    for j in df.index:\n",
    "        if df[i][j] == 'NaN':\n",
    "            df_nan['nan'][i]+=1\n",
    "            if df['poi'][j] == True:\n",
    "                \n",
    "                df_nan['nan_poi'][i]+=1\n",
    "            else:\n",
    "                df_nan['nan_non_poi'][i]+=1\n",
    "        else:\n",
    "            df_nan['non_nan'][i]+=1\n",
    "\n",
    "# poi_nan_ratio column\n",
    "for i in all_features_list:\n",
    "    if df_nan['nan_poi'][i] == 0:\n",
    "        df_nan['poi_nan_ratio'][i] == 'NaN'\n",
    "    else:\n",
    "        df_nan['poi_nan_ratio'][i] = round((df_nan['nan_poi'][i])*100.0/number_of_poi, 2)\n",
    "\n",
    "# non_poi_nan_ratio column\n",
    "for i in all_features_list:\n",
    "    if df_nan['nan_non_poi'][i] == 0:\n",
    "            df_nan['non_poi_nan_ratio'][i] == 'NaN'\n",
    "    else:\n",
    "        df_nan['non_poi_nan_ratio'][i] = round((df_nan['nan_non_poi'][i])*100.0/number_of_non_poi, 2)\n",
    "\n",
    "df_nan_1 = df_nan[['non_nan', 'nan']].sort_values(by=['nan'], ascending = True)\n",
    "df_nan_2 = df_nan[['poi_nan_ratio', 'non_poi_nan_ratio']].sort_values(by=['poi_nan_ratio'], ascending = True)\n",
    "\n",
    "\n",
    "print 'Number of missing values in data'       \n",
    "print df_nan_1['nan']"
   ]
  },
  {
   "cell_type": "code",
   "execution_count": 436,
   "metadata": {},
   "outputs": [
    {
     "name": "stdout",
     "output_type": "stream",
     "text": [
      "Ratio of missing values in POI / non-POIs\n",
      "                           poi_nan_ratio  non_poi_nan_ratio\n",
      "total_stock_value                      0                 15\n",
      "poi                                    0                  0\n",
      "email_address                          0                 27\n",
      "other                                  0                 41\n",
      "expenses                               0                 39\n",
      "total_payments                         0                 16\n",
      "salary                                 5                 39\n",
      "restricted_stock                       5                 27\n",
      "bonus                                 11                 48\n",
      "from_this_person_to_poi               22                 43\n",
      "from_messages                         22                 43\n",
      "shared_receipt_with_poi               22                 43\n",
      "to_messages                           22                 43\n",
      "from_poi_to_this_person               22                 43\n",
      "long_term_incentive                   33                 57\n",
      "exercised_stock_options               33                 29\n",
      "deferred_income                       38                 70\n",
      "deferral_payments                     72                 73\n",
      "loan_advances                         94                 97\n",
      "director_fees                        100                 86\n",
      "restricted_stock_deferred            100                 85\n"
     ]
    }
   ],
   "source": [
    "print 'Ratio of missing values in POI / non-POIs'     \n",
    "print df_nan_2"
   ]
  },
  {
   "cell_type": "markdown",
   "metadata": {},
   "source": [
    "### Task 2: Remove Outliers"
   ]
  },
  {
   "cell_type": "code",
   "execution_count": 437,
   "metadata": {},
   "outputs": [
    {
     "data": {
      "image/png": "[encoded data removed]",
      "text/plain": [
       "<matplotlib.figure.Figure at 0x110e22a10>"
      ]
     },
     "metadata": {},
     "output_type": "display_data"
    }
   ],
   "source": [
    "import matplotlib.pyplot as plt\n",
    "%matplotlib inline\n",
    "plt.rc('figure', figsize=(6,2))\n",
    "\n",
    "### Task 2: Remove outliers\n",
    "# plot the salary and the bonus data\n",
    "features_outliers = [\"salary\", \"bonus\"]\n",
    "data_outliers = featureFormat(data_dict, features_outliers)\n",
    "\n",
    "for point in data_outliers:\n",
    "    salary = point[0]\n",
    "    bonus = point[1]\n",
    "    plt.scatter(salary,bonus)\n",
    "\n",
    "plt.xlabel(\"salary\")\n",
    "plt.ylabel(\"bonus\");"
   ]
  },
  {
   "cell_type": "code",
   "execution_count": 438,
   "metadata": {},
   "outputs": [
    {
     "name": "stdout",
     "output_type": "stream",
     "text": [
      "max: TOTAL 97343619.0\n"
     ]
    }
   ],
   "source": [
    "# find the key of outlier\n",
    "for key, value in data_dict.items():\n",
    "    if value['bonus'] == data_outliers.max():\n",
    "        print 'max:', key, data_outliers.max()"
   ]
  },
  {
   "cell_type": "code",
   "execution_count": 439,
   "metadata": {},
   "outputs": [
    {
     "data": {
      "text/plain": [
       "{'bonus': 97343619,\n",
       " 'deferral_payments': 32083396,\n",
       " 'deferred_income': -27992891,\n",
       " 'director_fees': 1398517,\n",
       " 'email_address': 'NaN',\n",
       " 'exercised_stock_options': 311764000,\n",
       " 'expenses': 5235198,\n",
       " 'from_messages': 'NaN',\n",
       " 'from_poi_to_this_person': 'NaN',\n",
       " 'from_this_person_to_poi': 'NaN',\n",
       " 'loan_advances': 83925000,\n",
       " 'long_term_incentive': 48521928,\n",
       " 'other': 42667589,\n",
       " 'poi': False,\n",
       " 'restricted_stock': 130322299,\n",
       " 'restricted_stock_deferred': -7576788,\n",
       " 'salary': 26704229,\n",
       " 'shared_receipt_with_poi': 'NaN',\n",
       " 'to_messages': 'NaN',\n",
       " 'total_payments': 309886585,\n",
       " 'total_stock_value': 434509511}"
      ]
     },
     "execution_count": 439,
     "metadata": {},
     "output_type": "execute_result"
    }
   ],
   "source": [
    "# remove the outlier 'TOTAL'\n",
    "data_dict.pop('TOTAL', 0 )"
   ]
  },
  {
   "cell_type": "code",
   "execution_count": 440,
   "metadata": {},
   "outputs": [
    {
     "data": {
      "image/png": "[encoded data removed]",
      "text/plain": [
       "<matplotlib.figure.Figure at 0x110243b90>"
      ]
     },
     "metadata": {},
     "output_type": "display_data"
    }
   ],
   "source": [
    "# second plot\n",
    "data_outliers = featureFormat(data_dict, features_outliers)\n",
    "for point in data_outliers:\n",
    "    salary = point[0]\n",
    "    bonus = point[1]\n",
    "    plt.scatter(salary,bonus)\n",
    "    \n",
    "plt.xlabel(\"salary\")\n",
    "plt.ylabel(\"bonus\");"
   ]
  },
  {
   "cell_type": "code",
   "execution_count": 441,
   "metadata": {},
   "outputs": [
    {
     "name": "stdout",
     "output_type": "stream",
     "text": [
      "people whose both bonus and salary are away from other data points\n",
      "['LAY KENNETH L', 'SKILLING JEFFREY K']\n",
      "people whose only bonus is away from other data points\n",
      "['LAVORATO JOHN J', 'BELDEN TIMOTHY N']\n",
      "people whose only bonus is away from other data points\n",
      "['WHALLEY LAWRENCE G', 'PICKERING MARK R', 'FREVERT MARK A']\n"
     ]
    }
   ],
   "source": [
    "outlier_bonus =5000000\n",
    "outlier_salary = 500000\n",
    "\n",
    "both_outlier = []\n",
    "for key, value in data_dict.items():\n",
    "    if value['bonus'] == 'NaN':\n",
    "        pass\n",
    "    elif value['bonus'] > outlier_bonus:\n",
    "        if value['salary'] > outlier_salary:\n",
    "            both_outlier.append(key)\n",
    "    else:\n",
    "        pass\n",
    "print 'people whose both bonus and salary are away from other data points'   \n",
    "print both_outlier\n",
    "\n",
    "bonus_outlier = []\n",
    "for key, value in data_dict.items():\n",
    "    if value['bonus'] == 'NaN':\n",
    "        pass\n",
    "    elif value['bonus'] > outlier_bonus:\n",
    "        if value['salary'] > outlier_salary:\n",
    "            pass\n",
    "        else:\n",
    "            bonus_outlier.append(key)\n",
    "    else:\n",
    "        pass\n",
    "\n",
    "print 'people whose only bonus is away from other data points'       \n",
    "print bonus_outlier\n",
    "\n",
    "salary_outlier = []\n",
    "for key, value in data_dict.items():\n",
    "    if value['salary'] == 'NaN':\n",
    "        pass\n",
    "    elif value['salary'] > outlier_salary:\n",
    "        if value['bonus'] > outlier_bonus:\n",
    "            pass\n",
    "        else:\n",
    "            salary_outlier.append(key)\n",
    "    else:\n",
    "        pass\n",
    "\n",
    "print 'people whose only bonus is away from other data points'       \n",
    "print salary_outlier"
   ]
  },
  {
   "cell_type": "code",
   "execution_count": 442,
   "metadata": {},
   "outputs": [
    {
     "name": "stdout",
     "output_type": "stream",
     "text": [
      "       LAY KENNETH L: True\n",
      "  SKILLING JEFFREY K: True\n",
      "     LAVORATO JOHN J: False\n",
      "    BELDEN TIMOTHY N: True\n",
      "  WHALLEY LAWRENCE G: False\n",
      "    PICKERING MARK R: False\n",
      "      FREVERT MARK A: False\n"
     ]
    }
   ],
   "source": [
    "# find poi/non-poi of outlier\n",
    "outlier_list = both_outlier + bonus_outlier + salary_outlier\n",
    "\n",
    "poi_outlier = []\n",
    "non_poi_outlier = []\n",
    "for key in outlier_list:\n",
    "    poi_value = df.get_value(index=key, col='poi')\n",
    "    if poi_value == True:\n",
    "        poi_outlier.append(key)\n",
    "        print '{:>20}: {}'.format(key, poi_value)\n",
    "    else:\n",
    "        non_poi_outlier.append(key)  \n",
    "        print '{:>20}: {}'.format(key, poi_value)\n"
   ]
  },
  {
   "cell_type": "code",
   "execution_count": 443,
   "metadata": {},
   "outputs": [
    {
     "name": "stdout",
     "output_type": "stream",
     "text": [
      "number of non-pois / pois: 123 / 18\n"
     ]
    }
   ],
   "source": [
    "# remove the non-poi outlier\n",
    "for key in non_poi_outlier:\n",
    "    data_dict.pop(key, 0 )\n",
    "\n",
    "# total number of poi nd non-poi after outlier removal    \n",
    "df = pd.DataFrame(data_dict)\n",
    "df = df.T\n",
    "number_of_non_poi, number_of_poi = df['poi'].value_counts()\n",
    "print \"number of non-pois / pois:\", number_of_non_poi, '/', number_of_poi"
   ]
  },
  {
   "cell_type": "markdown",
   "metadata": {},
   "source": [
    "### Task 4. Try a Variety of Classifiers"
   ]
  },
  {
   "cell_type": "code",
   "execution_count": 444,
   "metadata": {},
   "outputs": [],
   "source": [
    "# cross validation would be done by StratifiedShuffleSplit, based on f1 score\n",
    "from sklearn.cross_validation import StratifiedShuffleSplit\n",
    "from sklearn.metrics import accuracy_score\n",
    "\n",
    "def validate(features, labels):\n",
    "    '''\n",
    "    Ten-fold cross-validation with stratified sampling.\n",
    "    '''\n",
    "    accuracy_scores = []\n",
    "    precision_scores = []\n",
    "    recall_scores = []\n",
    "    f1_scores = []\n",
    "\n",
    "    sss = StratifiedShuffleSplit(labels, n_iter=10)\n",
    "    for train_index, test_index in sss:\n",
    "        \n",
    "        features = np.asarray(features)\n",
    "        labels = np.asarray(labels)\n",
    "        features_train, features_test = features[train_index], features[test_index]\n",
    "        labels_train, labels_test = labels[train_index], labels[test_index]\n",
    "        clf.fit(features_train, labels_train)\n",
    "        y_pred = clf.predict(features_test)\n",
    "        accuracy_scores.append(accuracy_score(labels_test, y_pred))\n",
    "        precision_scores.append(precision_score(labels_test, y_pred))\n",
    "        recall_scores.append(recall_score(labels_test, y_pred))\n",
    "        f1_scores.append(f1_score(labels_test, y_pred))\n",
    "\n",
    "    return np.mean(precision_scores), np.mean(recall_scores), np.mean(f1_scores)   "
   ]
  },
  {
   "cell_type": "code",
   "execution_count": 468,
   "metadata": {},
   "outputs": [],
   "source": [
    "### Store to my_dataset for easy export below.\n",
    "my_dataset = data_dict\n",
    "\n",
    "# all features initially available and the first feature is 'poi'\n",
    "features_list = list(all_features_list)\n",
    "\n",
    "# bring the 'poi' feature first on the list for later data process\n",
    "def poi_first(features_list):\n",
    "    poi_index = features_list.index('poi')\n",
    "    if poi_index == 0:\n",
    "        pass\n",
    "    else:\n",
    "        features_list[poi_index], features_list[0] = features_list[0], features_list[poi_index]\n",
    "\n",
    "poi_first(features_list)\n",
    "        \n",
    "# remove email address from all features\n",
    "features_list.remove('email_address')\n",
    "\n",
    "### Extract features and labels from dataset again with the new features_list\n",
    "from feature_format import featureFormat, targetFeatureSplit\n",
    "data = featureFormat(my_dataset, features_list, sort_keys = True)\n",
    "labels, features = targetFeatureSplit(data)\n",
    "\n",
    "# split data into train and test data\n",
    "from sklearn.cross_validation import train_test_split\n",
    "features_train, features_test, labels_train, labels_test = \\\n",
    "    train_test_split(features, labels, test_size=0.3, random_state=42)"
   ]
  },
  {
   "cell_type": "code",
   "execution_count": 458,
   "metadata": {},
   "outputs": [
    {
     "name": "stdout",
     "output_type": "stream",
     "text": [
      "accuracy, precision, reacall and f1 scores of each classifier\n"
     ]
    },
    {
     "data": {
      "text/html": [
       "<div>\n",
       "<table border=\"1\" class=\"dataframe\">\n",
       "  <thead>\n",
       "    <tr style=\"text-align: right;\">\n",
       "      <th></th>\n",
       "      <th>clf</th>\n",
       "      <th>precision</th>\n",
       "      <th>recall</th>\n",
       "      <th>f1 score</th>\n",
       "    </tr>\n",
       "  </thead>\n",
       "  <tbody>\n",
       "    <tr>\n",
       "      <th>0</th>\n",
       "      <td>()</td>\n",
       "      <td>0.250000</td>\n",
       "      <td>0.30</td>\n",
       "      <td>0.253333</td>\n",
       "    </tr>\n",
       "    <tr>\n",
       "      <th>1</th>\n",
       "      <td>GaussianNB()</td>\n",
       "      <td>0.191667</td>\n",
       "      <td>0.30</td>\n",
       "      <td>0.230000</td>\n",
       "    </tr>\n",
       "    <tr>\n",
       "      <th>2</th>\n",
       "      <td>SVC(C=1.0, cache_size=200, class_weight=None, ...</td>\n",
       "      <td>0.216667</td>\n",
       "      <td>0.20</td>\n",
       "      <td>0.196667</td>\n",
       "    </tr>\n",
       "    <tr>\n",
       "      <th>3</th>\n",
       "      <td>DecisionTreeClassifier(class_weight=None, crit...</td>\n",
       "      <td>0.283333</td>\n",
       "      <td>0.35</td>\n",
       "      <td>0.293333</td>\n",
       "    </tr>\n",
       "  </tbody>\n",
       "</table>\n",
       "</div>"
      ],
      "text/plain": [
       "                                                 clf  precision  recall  f1 score\n",
       "0                                                 ()   0.250000    0.30  0.253333\n",
       "1                                       GaussianNB()   0.191667    0.30  0.230000\n",
       "2  SVC(C=1.0, cache_size=200, class_weight=None, ...   0.216667    0.20  0.196667\n",
       "3  DecisionTreeClassifier(class_weight=None, crit...   0.283333    0.35  0.293333"
      ]
     },
     "execution_count": 458,
     "metadata": {},
     "output_type": "execute_result"
    }
   ],
   "source": [
    "### Task 4: Try a varity of classifiers\n",
    "### Please name your classifier clf for easy export below.\n",
    "### Note that if you want to do PCA or other multi-stage operations,\n",
    "### you'll need to use Pipelines. For more info:\n",
    "### http://scikit-learn.org/stable/modules/pipeline.html\n",
    "\n",
    "# Provided to give you a starting point. Try a variety of classifiers.\n",
    "from sklearn.pipeline import Pipeline\n",
    "from sklearn.naive_bayes import GaussianNB\n",
    "from sklearn.tree import DecisionTreeClassifier\n",
    "from sklearn import svm\n",
    "from sklearn.ensemble import AdaBoostClassifier \n",
    "from sklearn.metrics import precision_score, recall_score, f1_score\n",
    "\n",
    "# loop over several models to find the best one [1][5]\n",
    "classifiers = [\n",
    "    AdaBoostClassifier(),\n",
    "    GaussianNB(),\n",
    "    svm.SVC(),\n",
    "    DecisionTreeClassifier()\n",
    "    ]\n",
    "\n",
    "def clf_df(classifiers, features, labels):\n",
    "    clf_col = ['clf', 'precision', 'recall', 'f1 score']\n",
    "    clf_df = pd.DataFrame(index=[], columns=clf_col)\n",
    "    \n",
    "    for clf in classifiers:\n",
    "        precision, recall, f1score = validate(features, labels)\n",
    "        series = pd.Series([clf, precision, recall, f1score], index=clf_df.columns)\n",
    "        clf_df = clf_df.append(series, ignore_index = True)\n",
    "    return clf_df\n",
    "\n",
    "print 'accuracy, precision, reacall and f1 scores of each classifier'\n",
    "clf_df(classifiers, features, labels)"
   ]
  },
  {
   "cell_type": "code",
   "execution_count": 469,
   "metadata": {},
   "outputs": [],
   "source": [
    "# from the clf_df result, choose the best algorithm to predict poi / non-poi\n",
    "classifiers = [\n",
    "    AdaBoostClassifier(),\n",
    "    DecisionTreeClassifier()\n",
    "    ]"
   ]
  },
  {
   "cell_type": "code",
   "execution_count": 470,
   "metadata": {
    "collapsed": true
   },
   "outputs": [],
   "source": [
    "# features scaling is not needed with DecisionTreeClassifier() in general [3][4]"
   ]
  },
  {
   "cell_type": "code",
   "execution_count": 471,
   "metadata": {},
   "outputs": [
    {
     "data": {
      "text/plain": [
       "\"\\n### feature importances on decision tree classifier\\nclf.fit(features, labels)\\nFeatureImportances = clf.feature_importances_\\nFeatureImportances = sorted(FeatureImportances, reverse=True)\\nfeatures_list_rm_poi = list(features_list)\\nfeatures_list_rm_poi.pop(0)\\n\\nprint 'feature importances by order'\\nfor i, feat in enumerate(features_list_rm_poi):\\n    print feat, ':', FeatureImportances[i]\\n\""
      ]
     },
     "execution_count": 471,
     "metadata": {},
     "output_type": "execute_result"
    }
   ],
   "source": [
    "'''\n",
    "### feature importances on decision tree classifier\n",
    "clf.fit(features, labels)\n",
    "FeatureImportances = clf.feature_importances_\n",
    "FeatureImportances = sorted(FeatureImportances, reverse=True)\n",
    "features_list_rm_poi = list(features_list)\n",
    "features_list_rm_poi.pop(0)\n",
    "\n",
    "print 'feature importances by order'\n",
    "for i, feat in enumerate(features_list_rm_poi):\n",
    "    print feat, ':', FeatureImportances[i]\n",
    "'''"
   ]
  },
  {
   "cell_type": "markdown",
   "metadata": {},
   "source": [
    "### Task 3: Create New Features"
   ]
  },
  {
   "cell_type": "code",
   "execution_count": 473,
   "metadata": {},
   "outputs": [
    {
     "data": {
      "text/html": [
       "<div>\n",
       "<table border=\"1\" class=\"dataframe\">\n",
       "  <thead>\n",
       "    <tr style=\"text-align: right;\">\n",
       "      <th></th>\n",
       "      <th>clf</th>\n",
       "      <th>precision</th>\n",
       "      <th>recall</th>\n",
       "      <th>f1 score</th>\n",
       "    </tr>\n",
       "  </thead>\n",
       "  <tbody>\n",
       "    <tr>\n",
       "      <th>0</th>\n",
       "      <td>()</td>\n",
       "      <td>0.383333</td>\n",
       "      <td>0.35</td>\n",
       "      <td>0.333333</td>\n",
       "    </tr>\n",
       "    <tr>\n",
       "      <th>1</th>\n",
       "      <td>DecisionTreeClassifier(class_weight=None, crit...</td>\n",
       "      <td>0.445000</td>\n",
       "      <td>0.55</td>\n",
       "      <td>0.458571</td>\n",
       "    </tr>\n",
       "  </tbody>\n",
       "</table>\n",
       "</div>"
      ],
      "text/plain": [
       "                                                 clf  precision  recall  f1 score\n",
       "0                                                 ()   0.383333    0.35  0.333333\n",
       "1  DecisionTreeClassifier(class_weight=None, crit...   0.445000    0.55  0.458571"
      ]
     },
     "execution_count": 473,
     "metadata": {},
     "output_type": "execute_result"
    }
   ],
   "source": [
    "### Task 3: Create new feature(s)\n",
    "from fractions import Fraction\n",
    "\n",
    "### new feature 1: portion of from/to poi messages within all from/to messages\n",
    "def computeFraction( poi_messages, all_messages ):\n",
    "    \"\"\" given a number messages to/from POI (numerator) \n",
    "        and number of all messages to/from a person (denominator),\n",
    "        return the fraction of messages to/from that person\n",
    "        that are from/to a POI\n",
    "   \"\"\"\n",
    "\n",
    "    fraction = 0.\n",
    "    if 'email_address' == 'NaN':\n",
    "        return 0\n",
    "    else:\n",
    "        if all_messages == 0 or all_messages == 'NaN':\n",
    "            fraction = 0\n",
    "        if poi_messages == 'NaN':\n",
    "            fraction = 0\n",
    "        else:\n",
    "            fraction = Fraction(poi_messages, all_messages)\n",
    "    return fraction\n",
    "\n",
    "\n",
    "for name in my_dataset:\n",
    "\n",
    "    data_point = my_dataset[name]\n",
    "\n",
    "    from_poi_to_this_person = data_point['from_poi_to_this_person']\n",
    "    to_messages = data_point['to_messages']\n",
    "    fraction_from_poi = computeFraction( from_poi_to_this_person, to_messages )\n",
    "    data_point['fraction_from_poi'] = fraction_from_poi\n",
    "\n",
    "    from_this_person_to_poi = data_point['from_this_person_to_poi']\n",
    "    from_messages = data_point['from_messages']\n",
    "    fraction_to_poi = computeFraction( from_this_person_to_poi, from_messages )\n",
    "    data_point['fraction_to_poi'] = fraction_to_poi\n",
    "\n",
    "# add new features to features_list\n",
    "features_list.extend(['fraction_from_poi', 'fraction_to_poi'])\n",
    "\n",
    "### Extract features and labels from dataset again with the new features_list\n",
    "data = featureFormat(my_dataset, features_list, sort_keys = True)\n",
    "labels, features = targetFeatureSplit(data)\n",
    "\n",
    "# validation of the clf with new features\n",
    "clf_df(classifiers, features, labels)"
   ]
  },
  {
   "cell_type": "code",
   "execution_count": 474,
   "metadata": {
    "collapsed": true
   },
   "outputs": [],
   "source": [
    "clf = DecisionTreeClassifier()"
   ]
  },
  {
   "cell_type": "markdown",
   "metadata": {},
   "source": [
    "### Task 1: Feature Selection "
   ]
  },
  {
   "cell_type": "code",
   "execution_count": 476,
   "metadata": {},
   "outputs": [
    {
     "name": "stdout",
     "output_type": "stream",
     "text": [
      "grid search score\n",
      "           parameters  mean_validation_score                               cv_validation_scores\n",
      "0    {u'kbest__k': 1}               0.280952  [0.8, 0.0, 0.0, 0.666666666667, 0.0, 0.0, 0.66...\n",
      "1    {u'kbest__k': 2}               0.336905  [0.333333333333, 0.5, 0.0, 0.666666666667, 0.0...\n",
      "2    {u'kbest__k': 3}               0.347857  [0.5, 1.0, 0.0, 0.5, 0.5, 0.0, 0.5, 0.0, 0.4, ...\n",
      "3    {u'kbest__k': 4}               0.307857  [0.4, 0.666666666667, 0.0, 0.4, 0.571428571429...\n",
      "4    {u'kbest__k': 5}               0.283571  [0.333333333333, 0.666666666667, 0.0, 0.0, 0.5...\n",
      "5    {u'kbest__k': 6}               0.316429  [0.333333333333, 0.8, 0.4, 0.0, 0.285714285714...\n",
      "6    {u'kbest__k': 7}               0.227381  [0.0, 0.8, 0.285714285714, 0.0, 0.0, 0.0, 0.66...\n",
      "7    {u'kbest__k': 8}               0.264524  [0.0, 0.666666666667, 0.4, 0.0, 0.4, 0.0, 0.66...\n",
      "8    {u'kbest__k': 9}               0.280952  [0.0, 1.0, 0.333333333333, 0.0, 0.285714285714...\n",
      "9   {u'kbest__k': 10}               0.358333  [0.0, 0.666666666667, 0.333333333333, 0.0, 0.5...\n",
      "10  {u'kbest__k': 11}               0.469762  [0.5, 1.0, 0.4, 0.0, 0.571428571429, 0.5, 0.5,...\n",
      "11  {u'kbest__k': 12}               0.395952  [0.333333333333, 1.0, 0.4, 0.0, 0.666666666667...\n",
      "12  {u'kbest__k': 13}               0.378095  [0.333333333333, 1.0, 0.4, 0.0, 0.666666666667...\n",
      "13  {u'kbest__k': 14}               0.282857  [0.333333333333, 0.0, 0.285714285714, 0.0, 0.6...\n",
      "14  {u'kbest__k': 15}               0.324762  [0.4, 0.0, 0.4, 0.0, 0.8, 0.5, 0.5, 0.0, 0.666...\n",
      "15  {u'kbest__k': 16}               0.332143  [0.5, 0.0, 0.333333333333, 0.0, 0.666666666667...\n",
      "16  {u'kbest__k': 17}               0.364558  [0.571428571429, 0.666666666667, 0.4, 0.0, 0.8...\n",
      "17  {u'kbest__k': 18}               0.394048  [0.4, 0.666666666667, 0.333333333333, 0.0, 0.6...\n",
      "18  {u'kbest__k': 19}               0.257143  [0.333333333333, 0.666666666667, 0.33333333333...\n",
      "19  {u'kbest__k': 20}               0.358571  [0.0, 0.666666666667, 0.285714285714, 0.0, 0.8...\n",
      "20  {u'kbest__k': 21}               0.267381  [0.333333333333, 0.0, 0.285714285714, 0.0, 0.4...\n",
      "\n",
      "best parameters set\n",
      "{'kbest__k': 11}\n"
     ]
    },
    {
     "data": {
      "text/plain": [
       "(0.39000000000000001, 0.55000000000000004, 0.42714285714285716)"
      ]
     },
     "execution_count": 476,
     "metadata": {},
     "output_type": "execute_result"
    }
   ],
   "source": [
    "### Task 1: Select what features you'll use.\n",
    "### features_list is a list of strings, each of which is a feature name.\n",
    "### The first feature must be \"poi\".\n",
    "\n",
    "# select features for Decision Tree Classifier using SelectKBest, connecting with Pipeline \n",
    "from sklearn.pipeline import Pipeline\n",
    "from sklearn.feature_selection import SelectKBest, f_classif\n",
    "from sklearn.grid_search import GridSearchCV\n",
    "\n",
    "# features_list and data for now\n",
    "# features_list\n",
    "features_list = list(all_features_list)\n",
    "features_list.remove('email_address')\n",
    "features_list.extend(['fraction_from_poi', 'fraction_to_poi'])\n",
    "poi_first(features_list)\n",
    "\n",
    "# data \n",
    "### Extract features and labels from dataset again with the new features_list\n",
    "data = featureFormat(my_dataset, features_list, sort_keys = True)\n",
    "labels, features = targetFeatureSplit(data)\n",
    "\n",
    "\n",
    "# kbest with pipeline\n",
    "n_features = np.arange(1, len(features_list))\n",
    "kbest = SelectKBest(f_classif)\n",
    "pipeline = Pipeline([('kbest', kbest), ('DT', DecisionTreeClassifier())])\n",
    "\n",
    "parameters = {\n",
    "    'kbest__k':n_features\n",
    "}\n",
    "\n",
    "grid_search = GridSearchCV(pipeline, parameters, scoring='f1', cv=10)\n",
    "\n",
    "grid_search.fit(features, labels)\n",
    "grid_scores = pd.DataFrame(grid_search.grid_scores_)\n",
    "\n",
    "print 'grid search score'\n",
    "pd.set_option('display.width', 100)\n",
    "print grid_scores\n",
    "\n",
    "print '\\nbest parameters set'\n",
    "best_k = grid_search.best_params_\n",
    "print best_k\n",
    "\n",
    "clf = grid_search\n",
    "validate(features, labels)"
   ]
  },
  {
   "cell_type": "code",
   "execution_count": 477,
   "metadata": {},
   "outputs": [
    {
     "name": "stdout",
     "output_type": "stream",
     "text": [
      "restricted_stock_deferred: 35.6553029979\n",
      "        deferral_payments: 27.9683623999\n",
      "            from_messages: 26.081456944\n",
      "            director_fees: 25.7158047926\n",
      "              to_messages: 16.5121282726\n",
      "  from_this_person_to_poi: 15.7179606972\n",
      "        fraction_from_poi: 12.44860887\n",
      "                 expenses: 11.9468554363\n",
      "                    other: 11.7959775751\n",
      "            loan_advances: 9.89055426333\n",
      "           total_payments: 9.51420263834\n"
     ]
    }
   ],
   "source": [
    "# when k=11 for SelectKBest\n",
    "kbest = SelectKBest(f_classif, k=11)\n",
    "\n",
    "# remove labels('poi') from the features_list\n",
    "features_list_rm_poi = features_list\n",
    "features_list_rm_poi.remove('poi')\n",
    "\n",
    "features_df = pd.DataFrame(features, columns=features_list_rm_poi)\n",
    "labels_df = pd.DataFrame(labels)\n",
    "\n",
    "kbest.fit(features, labels)\n",
    "features_new = kbest.transform(features)\n",
    "kbest_features = features_df.columns[kbest.get_support(indices=True)].tolist()\n",
    "kbest_scores = kbest.scores_\n",
    "\n",
    "kbest_features = []\n",
    "for i in np.argsort(kbest_scores):\n",
    "    kbest_features.append(features_list_rm_poi[i])\n",
    "\n",
    "kbest_scores = list(kbest_scores)    \n",
    "kbest_scores = sorted(kbest_scores, reverse=True)\n",
    "\n",
    "# print 11 best features and its scores\n",
    "for i in range(11):\n",
    "    print '{:>25}: {}'.format(kbest_features[i], kbest_scores[i])\n",
    "\n",
    "# rewrite the features_list with the best_k best features \n",
    "features_list = ['poi'] + kbest_features[:11]"
   ]
  },
  {
   "cell_type": "code",
   "execution_count": 478,
   "metadata": {
    "collapsed": true
   },
   "outputs": [],
   "source": [
    "# data with new feature list\n",
    "### Extract features and labels from dataset again with the new features_list\n",
    "data = featureFormat(my_dataset, features_list, sort_keys = True)\n",
    "labels, features = targetFeatureSplit(data)"
   ]
  },
  {
   "cell_type": "markdown",
   "metadata": {},
   "source": [
    "### Task 5: Tune Your Classifier"
   ]
  },
  {
   "cell_type": "code",
   "execution_count": 479,
   "metadata": {},
   "outputs": [],
   "source": [
    "### Task 5: Tune your classifier to achieve better than .3 precision and recall\n",
    "### using our testing script. Check the tester.py script in the final project\n",
    "### folder for details on the evaluation method, especially the test_classifier\n",
    "### function. Because of the small size of the dataset, the script uses\n",
    "### stratified shuffle split cross validation. For more info: \n",
    "### http://scikit-learn.org/stable/modules/generated/sklearn.cross_validation.StratifiedShuffleSplit.html\n",
    "# [8]"
   ]
  },
  {
   "cell_type": "code",
   "execution_count": 480,
   "metadata": {},
   "outputs": [
    {
     "name": "stderr",
     "output_type": "stream",
     "text": [
      "/Users/sarauenoyama/anaconda2/envs/DAND/lib/python2.7/site-packages/sklearn/feature_selection/univariate_selection.py:113: UserWarning: Features [9] are constant.\n",
      "  UserWarning)\n"
     ]
    },
    {
     "name": "stdout",
     "output_type": "stream",
     "text": [
      "best parameters set\n",
      "{'DT__criterion': 'entropy', 'DT__max_depth': None, 'DT__min_samples_leaf': 6, 'DT__min_samples_split': 20}\n",
      "GridSearchCV(cv=10, error_score='raise',\n",
      "       estimator=Pipeline(steps=[('kbest', SelectKBest(k=11, score_func=<function f_classif at 0x11048f2a8>)), ('DT', DecisionTreeClassifier(class_weight=None, criterion='gini', max_depth=None,\n",
      "            max_features=None, max_leaf_nodes=None, min_samples_leaf=1,\n",
      "            min_samples_split=2, min_weight_fraction_leaf=0.0,\n",
      "            presort=False, random_state=None, splitter='best'))]),\n",
      "       fit_params={}, iid=True, n_jobs=1,\n",
      "       param_grid={'DT__criterion': ['gini', 'entropy'], 'DT__max_depth': [None, 5, 10, 15, 20], 'DT__min_samples_split': [2, 4, 6, 8, 10, 20], 'DT__min_samples_leaf': [2, 4, 6, 8, 10, 20]},\n",
      "       pre_dispatch='2*n_jobs', refit=True, scoring=None, verbose=0)\n"
     ]
    }
   ],
   "source": [
    "# select features using SelectKBest and GridSearch CV, connecting them with pipeline [3][6][7]\n",
    "\n",
    "n_features = np.arange(1, len(features_list))\n",
    "kbest = SelectKBest(f_classif, k=11)\n",
    "pipeline = Pipeline([('kbest', kbest), ('DT', DecisionTreeClassifier())])\n",
    "\n",
    "parameters = {\n",
    "    'DT__criterion':['gini', 'entropy'], \n",
    "    'DT__min_samples_split':[2, 4, 6, 8, 10, 20],\n",
    "    'DT__max_depth':[None, 5, 10, 15, 20],\n",
    "    'DT__min_samples_leaf':[2, 4, 6, 8, 10, 20]\n",
    "}\n",
    "\n",
    "grid_search = GridSearchCV(pipeline, parameters, cv=10)\n",
    "\n",
    "grid_search.fit(features, labels)\n",
    "grid_search.grid_scores_\n",
    "\n",
    "print 'best parameters set'\n",
    "print grid_search.best_params_\n",
    "\n",
    "clf = grid_search\n",
    "print clf"
   ]
  },
  {
   "cell_type": "code",
   "execution_count": 481,
   "metadata": {},
   "outputs": [
    {
     "data": {
      "text/plain": [
       "(0.47499999999999998, 0.55000000000000004, 0.48666666666666664)"
      ]
     },
     "execution_count": 481,
     "metadata": {},
     "output_type": "execute_result"
    }
   ],
   "source": [
    "clf = DecisionTreeClassifier(criterion='entropy', max_depth=None, min_samples_leaf=6, min_samples_split=20)\n",
    "validate(features, labels)"
   ]
  },
  {
   "cell_type": "markdown",
   "metadata": {},
   "source": [
    "### Task 6: Dump Your Classifier, dataset, and features_list"
   ]
  },
  {
   "cell_type": "code",
   "execution_count": 482,
   "metadata": {
    "collapsed": true
   },
   "outputs": [],
   "source": [
    "### Task 6: Dump your classifier, dataset, and features_list so anyone can\n",
    "### check your results. You do not need to change anything below, but make sure\n",
    "### that the version of poi_id.py that you submit can be run on its own and\n",
    "### generates the necessary .pkl files for validating your results.\n",
    "\n",
    "from tester import dump_classifier_and_data\n",
    "dump_classifier_and_data(clf, my_dataset, features_list)"
   ]
  },
  {
   "cell_type": "code",
   "execution_count": 483,
   "metadata": {},
   "outputs": [
    {
     "name": "stdout",
     "output_type": "stream",
     "text": [
      "DecisionTreeClassifier(class_weight=None, criterion='entropy', max_depth=None,\n",
      "            max_features=None, max_leaf_nodes=None, min_samples_leaf=6,\n",
      "            min_samples_split=20, min_weight_fraction_leaf=0.0,\n",
      "            presort=False, random_state=None, splitter='best')\n",
      "\tAccuracy: 0.87436\tPrecision: 0.57564\tRecall: 0.45850\tF1: 0.51044\tF2: 0.47795\n",
      "\tTotal predictions: 14000\tTrue positives:  917\tFalse positives:  676\tFalse negatives: 1083\tTrue negatives: 11324\n",
      "\n"
     ]
    }
   ],
   "source": [
    "# %load tester.py\n",
    "#!/usr/bin/pickle\n",
    "\n",
    "\"\"\" a basic script for importing student's POI identifier,\n",
    "    and checking the results that they get from it \n",
    " \n",
    "    requires that the algorithm, dataset, and features list\n",
    "    be written to my_classifier.pkl, my_dataset.pkl, and\n",
    "    my_feature_list.pkl, respectively\n",
    "\n",
    "    that process should happen at the end of poi_id.py\n",
    "\"\"\"\n",
    "\n",
    "import pickle\n",
    "import sys\n",
    "from sklearn.cross_validation import StratifiedShuffleSplit\n",
    "sys.path.append(\"../tools/\")\n",
    "from feature_format import featureFormat, targetFeatureSplit\n",
    "\n",
    "PERF_FORMAT_STRING = \"\\\n",
    "\\tAccuracy: {:>0.{display_precision}f}\\tPrecision: {:>0.{display_precision}f}\\t\\\n",
    "Recall: {:>0.{display_precision}f}\\tF1: {:>0.{display_precision}f}\\tF2: {:>0.{display_precision}f}\"\n",
    "RESULTS_FORMAT_STRING = \"\\tTotal predictions: {:4d}\\tTrue positives: {:4d}\\tFalse positives: {:4d}\\\n",
    "\\tFalse negatives: {:4d}\\tTrue negatives: {:4d}\"\n",
    "\n",
    "def test_classifier(clf, dataset, feature_list, folds = 1000):\n",
    "    data = featureFormat(dataset, feature_list, sort_keys = True)\n",
    "    labels, features = targetFeatureSplit(data)\n",
    "    cv = StratifiedShuffleSplit(labels, folds, random_state = 42)\n",
    "    true_negatives = 0\n",
    "    false_negatives = 0\n",
    "    true_positives = 0\n",
    "    false_positives = 0\n",
    "    for train_idx, test_idx in cv: \n",
    "        features_train = []\n",
    "        features_test  = []\n",
    "        labels_train   = []\n",
    "        labels_test    = []\n",
    "        for ii in train_idx:\n",
    "            features_train.append( features[ii] )\n",
    "            labels_train.append( labels[ii] )\n",
    "        for jj in test_idx:\n",
    "            features_test.append( features[jj] )\n",
    "            labels_test.append( labels[jj] )\n",
    "        \n",
    "        ### fit the classifier using training set, and test on test set\n",
    "        clf.fit(features_train, labels_train)\n",
    "        predictions = clf.predict(features_test)\n",
    "        for prediction, truth in zip(predictions, labels_test):\n",
    "            if prediction == 0 and truth == 0:\n",
    "                true_negatives += 1\n",
    "            elif prediction == 0 and truth == 1:\n",
    "                false_negatives += 1\n",
    "            elif prediction == 1 and truth == 0:\n",
    "                false_positives += 1\n",
    "            elif prediction == 1 and truth == 1:\n",
    "                true_positives += 1\n",
    "            else:\n",
    "                print \"Warning: Found a predicted label not == 0 or 1.\"\n",
    "                print \"All predictions should take value 0 or 1.\"\n",
    "                print \"Evaluating performance for processed predictions:\"\n",
    "                break\n",
    "    try:\n",
    "        total_predictions = true_negatives + false_negatives + false_positives + true_positives\n",
    "        accuracy = 1.0*(true_positives + true_negatives)/total_predictions\n",
    "        precision = 1.0*true_positives/(true_positives+false_positives)\n",
    "        recall = 1.0*true_positives/(true_positives+false_negatives)\n",
    "        f1 = 2.0 * true_positives/(2*true_positives + false_positives+false_negatives)\n",
    "        f2 = (1+2.0*2.0) * precision*recall/(4*precision + recall)\n",
    "        print clf\n",
    "        print PERF_FORMAT_STRING.format(accuracy, precision, recall, f1, f2, display_precision = 5)\n",
    "        print RESULTS_FORMAT_STRING.format(total_predictions, true_positives, false_positives, false_negatives, true_negatives)\n",
    "        print \"\"\n",
    "    except:\n",
    "        print \"Got a divide by zero when trying out:\", clf\n",
    "        print \"Precision or recall may be undefined due to a lack of true positive predicitons.\"\n",
    "\n",
    "CLF_PICKLE_FILENAME = \"my_classifier.pkl\"\n",
    "DATASET_PICKLE_FILENAME = \"my_dataset.pkl\"\n",
    "FEATURE_LIST_FILENAME = \"my_feature_list.pkl\"\n",
    "\n",
    "def dump_classifier_and_data(clf, dataset, feature_list):\n",
    "    with open(CLF_PICKLE_FILENAME, \"w\") as clf_outfile:\n",
    "        pickle.dump(clf, clf_outfile)\n",
    "    with open(DATASET_PICKLE_FILENAME, \"w\") as dataset_outfile:\n",
    "        pickle.dump(dataset, dataset_outfile)\n",
    "    with open(FEATURE_LIST_FILENAME, \"w\") as featurelist_outfile:\n",
    "        pickle.dump(feature_list, featurelist_outfile)\n",
    "\n",
    "def load_classifier_and_data():\n",
    "    with open(CLF_PICKLE_FILENAME, \"r\") as clf_infile:\n",
    "        clf = pickle.load(clf_infile)\n",
    "    with open(DATASET_PICKLE_FILENAME, \"r\") as dataset_infile:\n",
    "        dataset = pickle.load(dataset_infile)\n",
    "    with open(FEATURE_LIST_FILENAME, \"r\") as featurelist_infile:\n",
    "        feature_list = pickle.load(featurelist_infile)\n",
    "    return clf, dataset, feature_list\n",
    "\n",
    "def main():\n",
    "    ### load up student's classifier, dataset, and feature_list\n",
    "    clf, dataset, feature_list = load_classifier_and_data()\n",
    "    ### Run testing script\n",
    "    test_classifier(clf, dataset, feature_list)\n",
    "\n",
    "if __name__ == '__main__':\n",
    "    main()\n"
   ]
  },
  {
   "cell_type": "markdown",
   "metadata": {},
   "source": [
    "## Reference List"
   ]
  },
  {
   "cell_type": "markdown",
   "metadata": {},
   "source": [
    "[1]: scikit-learn. Choosing the right estimator. Retrieved from https://scikit-learn.org/stable/tutorial/machine_learning_map\n",
    "\n",
    "[2]: Medium. Why, How and When to Scale your Features. Retrieved from https://medium.com/greyatom/why-how-and-when-to-scale-your-features-4b30ab09db5e\n",
    "\n",
    "[3]: scikit-learn. sklearn.tree.DecisionTreeClassifier. Retrieved from https://scikit-learn.org/stable/modules/generated/sklearn.tree.DecisionTreeClassifier.html  \n",
    "\n",
    "[4]: data school. Comparing supervised learning algorithms. Retrieved from https://www.dataschool.io/comparing-supervised-learning-algorithms/\n",
    "\n",
    "[5]: scikit-learn. sklearn.model_selection.GridSearchCV. Retrieved from https://scikit-learn.org/stable/modules/generated/sklearn.model_selection.GridSearchCV.html\n",
    "\n",
    "[6]: Medium. A brief view of machine learning pipeline in python. Retrieved from https://medium.com/@yanhann10/a-brief-view-of-machine-learning-pipeline-in-python-5f50b941fca8\n",
    "\n",
    "[7]: Quora. How do I properly use SelectKBest, GridSearchCV, and cross-validation in the sklearn package together?. Retrieved from https://www.quora.com/How-do-I-properly-use-SelectKBest-GridSearchCV-and-cross-validation-in-the-sklearn-package-together\n",
    "\n",
    "[8]: busigence. Hyperparameter Optimization and Why is it important?. Retrieved from http://busigence.com/blog/hyperparameter-optimization-and-why-is-it-important  \n",
    "\n",
    "[9]: programcreek. Python sklearn.model_selection.StratifiedShuffleSplit() Examples. Retrieved from https://www.programcreek.com/python/example/91149/sklearn.model_selection.StratifiedShuffleSplit  \n",
    "\n",
    "[10]: w3cub. sklearn.model_selection.StratifiedShuffleSplit. Retrieved from  http://docs.w3cub.com/scikit_learn/modules/generated/sklearn.model_selection.stratifiedshufflesplit/#sklearn.model_selection.StratifiedShuffleSplit"
   ]
  },
  {
   "cell_type": "markdown",
   "metadata": {},
   "source": [
    "I hereby confirm that this submission is my work. I have cited above the origins of any parts of the submission that were taken from Websites, books, forums, blog posts, github repositories, etc."
   ]
  },
  {
   "cell_type": "code",
   "execution_count": null,
   "metadata": {
    "collapsed": true
   },
   "outputs": [],
   "source": []
  },
  {
   "cell_type": "code",
   "execution_count": null,
   "metadata": {
    "collapsed": true
   },
   "outputs": [],
   "source": []
  },
  {
   "cell_type": "code",
   "execution_count": null,
   "metadata": {
    "collapsed": true
   },
   "outputs": [],
   "source": []
  },
  {
   "cell_type": "code",
   "execution_count": null,
   "metadata": {
    "collapsed": true
   },
   "outputs": [],
   "source": []
  },
  {
   "cell_type": "code",
   "execution_count": 100,
   "metadata": {},
   "outputs": [
    {
     "ename": "ValueError",
     "evalue": "Number of features of the model must  match the input. Model n_features is 23 and  input n_features is 19 ",
     "output_type": "error",
     "traceback": [
      "\u001b[0;31m---------------------------------------------------------------------------\u001b[0m",
      "\u001b[0;31mValueError\u001b[0m                                Traceback (most recent call last)",
      "\u001b[0;32m<ipython-input-100-e6d6703bff9f>\u001b[0m in \u001b[0;36m<module>\u001b[0;34m()\u001b[0m\n\u001b[1;32m     15\u001b[0m \u001b[0mclf\u001b[0m\u001b[0;34m.\u001b[0m\u001b[0mscore\u001b[0m\u001b[0;34m(\u001b[0m\u001b[0mfeatures_test_kf\u001b[0m\u001b[0;34m,\u001b[0m \u001b[0mlabels_test_kf\u001b[0m\u001b[0;34m)\u001b[0m\u001b[0;34m\u001b[0m\u001b[0m\n\u001b[1;32m     16\u001b[0m \u001b[0;34m\u001b[0m\u001b[0m\n\u001b[0;32m---> 17\u001b[0;31m \u001b[0mpred_kf\u001b[0m \u001b[0;34m=\u001b[0m \u001b[0mclf\u001b[0m\u001b[0;34m.\u001b[0m\u001b[0mpredict\u001b[0m\u001b[0;34m(\u001b[0m\u001b[0mfeatures_test\u001b[0m\u001b[0;34m)\u001b[0m\u001b[0;34m\u001b[0m\u001b[0m\n\u001b[0m\u001b[1;32m     18\u001b[0m \u001b[0mprecision\u001b[0m \u001b[0;34m=\u001b[0m \u001b[0mprecision_score\u001b[0m\u001b[0;34m(\u001b[0m\u001b[0mlabels_test\u001b[0m\u001b[0;34m,\u001b[0m \u001b[0mpred_kf\u001b[0m\u001b[0;34m,\u001b[0m \u001b[0maverage\u001b[0m\u001b[0;34m=\u001b[0m\u001b[0;34m'binary'\u001b[0m\u001b[0;34m)\u001b[0m\u001b[0;34m\u001b[0m\u001b[0m\n\u001b[1;32m     19\u001b[0m \u001b[0mrecall\u001b[0m \u001b[0;34m=\u001b[0m \u001b[0mrecall_score\u001b[0m\u001b[0;34m(\u001b[0m\u001b[0mlabels_test\u001b[0m\u001b[0;34m,\u001b[0m \u001b[0mpred_kf\u001b[0m\u001b[0;34m,\u001b[0m \u001b[0maverage\u001b[0m\u001b[0;34m=\u001b[0m\u001b[0;34m'binary'\u001b[0m\u001b[0;34m)\u001b[0m\u001b[0;34m\u001b[0m\u001b[0m\n",
      "\u001b[0;32m/Users/sarauenoyama/anaconda2/envs/DAND/lib/python2.7/site-packages/sklearn/tree/tree.pyc\u001b[0m in \u001b[0;36mpredict\u001b[0;34m(self, X, check_input)\u001b[0m\n\u001b[1;32m    402\u001b[0m         \"\"\"\n\u001b[1;32m    403\u001b[0m \u001b[0;34m\u001b[0m\u001b[0m\n\u001b[0;32m--> 404\u001b[0;31m         \u001b[0mX\u001b[0m \u001b[0;34m=\u001b[0m \u001b[0mself\u001b[0m\u001b[0;34m.\u001b[0m\u001b[0m_validate_X_predict\u001b[0m\u001b[0;34m(\u001b[0m\u001b[0mX\u001b[0m\u001b[0;34m,\u001b[0m \u001b[0mcheck_input\u001b[0m\u001b[0;34m)\u001b[0m\u001b[0;34m\u001b[0m\u001b[0m\n\u001b[0m\u001b[1;32m    405\u001b[0m         \u001b[0mproba\u001b[0m \u001b[0;34m=\u001b[0m \u001b[0mself\u001b[0m\u001b[0;34m.\u001b[0m\u001b[0mtree_\u001b[0m\u001b[0;34m.\u001b[0m\u001b[0mpredict\u001b[0m\u001b[0;34m(\u001b[0m\u001b[0mX\u001b[0m\u001b[0;34m)\u001b[0m\u001b[0;34m\u001b[0m\u001b[0m\n\u001b[1;32m    406\u001b[0m         \u001b[0mn_samples\u001b[0m \u001b[0;34m=\u001b[0m \u001b[0mX\u001b[0m\u001b[0;34m.\u001b[0m\u001b[0mshape\u001b[0m\u001b[0;34m[\u001b[0m\u001b[0;36m0\u001b[0m\u001b[0;34m]\u001b[0m\u001b[0;34m\u001b[0m\u001b[0m\n",
      "\u001b[0;32m/Users/sarauenoyama/anaconda2/envs/DAND/lib/python2.7/site-packages/sklearn/tree/tree.pyc\u001b[0m in \u001b[0;36m_validate_X_predict\u001b[0;34m(self, X, check_input)\u001b[0m\n\u001b[1;32m    374\u001b[0m                              \u001b[0;34m\" match the input. Model n_features is %s and \"\u001b[0m\u001b[0;34m\u001b[0m\u001b[0m\n\u001b[1;32m    375\u001b[0m                              \u001b[0;34m\" input n_features is %s \"\u001b[0m\u001b[0;34m\u001b[0m\u001b[0m\n\u001b[0;32m--> 376\u001b[0;31m                              % (self.n_features_, n_features))\n\u001b[0m\u001b[1;32m    377\u001b[0m \u001b[0;34m\u001b[0m\u001b[0m\n\u001b[1;32m    378\u001b[0m         \u001b[0;32mreturn\u001b[0m \u001b[0mX\u001b[0m\u001b[0;34m\u001b[0m\u001b[0m\n",
      "\u001b[0;31mValueError\u001b[0m: Number of features of the model must  match the input. Model n_features is 23 and  input n_features is 19 "
     ]
    }
   ],
   "source": [
    "# cross validation with KFold\n",
    "from sklearn.cross_validation import KFold\n",
    "\n",
    "kf = KFold(len(features), n_folds=2, shuffle = True)\n",
    "features = np.array(features)\n",
    "labels = np.array(labels)\n",
    "for train_indices, test_indices in kf:\n",
    "    features_train_kf = features[train_indices]\n",
    "    features_test_kf = features[test_indices]\n",
    "    labels_train_kf = labels[train_indices]\n",
    "    labels_test_kf = labels[test_indices]\n",
    "\n",
    "clf = DecisionTreeClassifier(max_depth=2)\n",
    "clf.fit(features_train_kf, labels_train_kf)\n",
    "clf.score(features_test_kf, labels_test_kf)\n",
    "\n",
    "pred_kf = clf.predict(features_test)\n",
    "precision = precision_score(labels_test, pred_kf, average='binary')\n",
    "recall = recall_score(labels_test, pred_kf, average='binary')\n",
    "\n",
    "print '\\nscore:', score, 'precision:', precision, 'recall:', recall"
   ]
  },
  {
   "cell_type": "code",
   "execution_count": 50,
   "metadata": {},
   "outputs": [
    {
     "name": "stdout",
     "output_type": "stream",
     "text": [
      "[1 2]\n",
      "[0]\n",
      "[0 1]\n",
      "[2]\n",
      "[0 2]\n",
      "[1]\n"
     ]
    }
   ],
   "source": [
    "# validation using kfold cross validation\n",
    "from sklearn.cross_validation import KFold \n",
    "\n",
    "kfold = KFold(3, n_folds=3, shuffle=True, random_state=1)\n",
    "\n",
    "for train, test in kfold:\n",
    "    print train\n",
    "    print test"
   ]
  }
 ],
 "metadata": {
  "anaconda-cloud": {},
  "kernelspec": {
   "display_name": "Python 3",
   "language": "python",
   "name": "python3"
  },
  "language_info": {
   "codemirror_mode": {
    "name": "ipython",
    "version": 3
   },
   "file_extension": ".py",
   "mimetype": "text/x-python",
   "name": "python",
   "nbconvert_exporter": "python",
   "pygments_lexer": "ipython3",
   "version": "3.7.0"
  }
 },
 "nbformat": 4,
 "nbformat_minor": 2
}
