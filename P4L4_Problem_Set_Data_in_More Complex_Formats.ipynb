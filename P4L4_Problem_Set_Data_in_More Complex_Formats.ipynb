{
 "cells": [
  {
   "cell_type": "code",
   "execution_count": 11,
   "metadata": {
    "collapsed": true
   },
   "outputs": [],
   "source": [
    "from bs4 import BeautifulSoup\n",
    "from zipfile import ZipFile\n",
    "import os\n"
   ]
  },
  {
   "cell_type": "markdown",
   "metadata": {},
   "source": [
    "## 1. Quiz: Carrier List"
   ]
  },
  {
   "cell_type": "code",
   "execution_count": 12,
   "metadata": {
    "collapsed": false
   },
   "outputs": [
    {
     "data": {
      "text/plain": [
       "'\\nYour task in this exercise is to modify \\'extract_carrier()` to get a list of\\nall airlines. Exclude all of the combination values like \"All U.S. Carriers\"\\nfrom the data that you return. You should return a list of codes for the\\ncarriers.\\n\\nAll your changes should be in the \\'extract_carrier()\\' function. The\\n\\'options.html\\' file in the tab above is a stripped down version of what is\\nactually on the website, but should provide an example of what you should get\\nfrom the full file.\\n\\nPlease note that the function \\'make_request()\\' is provided for your reference\\nonly. You will not be able to to actually use it from within the Udacity web UI.\\n'"
      ]
     },
     "execution_count": 12,
     "metadata": {},
     "output_type": "execute_result"
    }
   ],
   "source": [
    "#####################################\n",
    "#                 1                 #\n",
    "#####################################\n",
    "\n",
    "#!/usr/bin/env python\n",
    "# -*- coding: utf-8 -*-\n",
    "\"\"\"\n",
    "Your task in this exercise is to modify 'extract_carrier()` to get a list of\n",
    "all airlines. Exclude all of the combination values like \"All U.S. Carriers\"\n",
    "from the data that you return. You should return a list of codes for the\n",
    "carriers.\n",
    "\n",
    "All your changes should be in the 'extract_carrier()' function. The\n",
    "'options.html' file in the tab above is a stripped down version of what is\n",
    "actually on the website, but should provide an example of what you should get\n",
    "from the full file.\n",
    "\n",
    "Please note that the function 'make_request()' is provided for your reference\n",
    "only. You will not be able to to actually use it from within the Udacity web UI.\n",
    "\"\"\""
   ]
  },
  {
   "cell_type": "code",
   "execution_count": 13,
   "metadata": {
    "collapsed": true
   },
   "outputs": [],
   "source": [
    "html_page = \"P4L4_Resources/options.html\"\n"
   ]
  },
  {
   "cell_type": "code",
   "execution_count": 14,
   "metadata": {
    "collapsed": false
   },
   "outputs": [],
   "source": [
    "def extract_carriers(page):\n",
    "    data = []\n",
    "\n",
    "    with open(page, \"r\") as html:\n",
    "        \n",
    "        # do something here to find the necessary values\n",
    "        soup = BeautifulSoup(html, \"lxml\")        \n",
    "        carrier_list = soup.find(id=\"CarrierList\")\n",
    "        \n",
    "        for option in carrier_list.find_all('option'):\n",
    "            carrier_name = option['value']\n",
    "            \n",
    "            if \"All\" in carrier_name:\n",
    "                pass\n",
    "            else:\n",
    "                data.append(carrier_name)\n",
    "        \n",
    "        return data\n"
   ]
  },
  {
   "cell_type": "code",
   "execution_count": 15,
   "metadata": {
    "collapsed": true
   },
   "outputs": [],
   "source": [
    "def make_request(data):\n",
    "    eventvalidation = data[\"eventvalidation\"]\n",
    "    viewstate = data[\"viewstate\"]\n",
    "    airport = data[\"airport\"]\n",
    "    carrier = data[\"carrier\"]\n",
    "\n",
    "    r = s.post(\"https://www.transtats.bts.gov/Data_Elements.aspx?Data=2\",\n",
    "               data = ((\"__EVENTTARGET\", \"\"),\n",
    "                       (\"__EVENTARGUMENT\", \"\"),\n",
    "                       (\"__VIEWSTATE\", viewstate),\n",
    "                       (\"__VIEWSTATEGENERATOR\",viewstategenerator),\n",
    "                       (\"__EVENTVALIDATION\", eventvalidation),\n",
    "                       (\"CarrierList\", carrier),\n",
    "                       (\"AirportList\", airport),\n",
    "                       (\"Submit\", \"Submit\")))\n",
    "\n",
    "    return r.text\n"
   ]
  },
  {
   "cell_type": "code",
   "execution_count": 16,
   "metadata": {
    "collapsed": true
   },
   "outputs": [],
   "source": [
    "def test():\n",
    "    data = extract_carriers(html_page)\n",
    "    assert len(data) == 16\n",
    "    assert \"FL\" in data\n",
    "    assert \"NK\" in data\n",
    "    "
   ]
  },
  {
   "cell_type": "code",
   "execution_count": 17,
   "metadata": {
    "collapsed": false
   },
   "outputs": [],
   "source": [
    "if __name__ == \"__main__\":\n",
    "    test()\n",
    "    "
   ]
  },
  {
   "cell_type": "markdown",
   "metadata": {},
   "source": [
    "## 2. Quiz: Airport List"
   ]
  },
  {
   "cell_type": "code",
   "execution_count": 18,
   "metadata": {
    "collapsed": false
   },
   "outputs": [
    {
     "data": {
      "text/plain": [
       "'\\nComplete the \\'extract_airports()\\' function so that it returns a list of airport\\ncodes, excluding any combinations like \"All\".\\n\\nRefer to the \\'options.html\\' file in the tab above for a stripped down version\\nof what is actually on the website. The test() assertions are based on the\\ngiven file.\\n'"
      ]
     },
     "execution_count": 18,
     "metadata": {},
     "output_type": "execute_result"
    }
   ],
   "source": [
    "#####################################\n",
    "#                 2                 #\n",
    "#####################################\n",
    "\n",
    "#!/usr/bin/env python\n",
    "# -*- coding: utf-8 -*-\n",
    "\"\"\"\n",
    "Complete the 'extract_airports()' function so that it returns a list of airport\n",
    "codes, excluding any combinations like \"All\".\n",
    "\n",
    "Refer to the 'options.html' file in the tab above for a stripped down version\n",
    "of what is actually on the website. The test() assertions are based on the\n",
    "given file.\n",
    "\"\"\""
   ]
  },
  {
   "cell_type": "code",
   "execution_count": 19,
   "metadata": {
    "collapsed": true
   },
   "outputs": [],
   "source": [
    "def extract_airports(page):\n",
    "    data = []\n",
    "    with open(page, \"r\") as html:\n",
    "        # do something here to find the necessary values\n",
    "        soup = BeautifulSoup(html, \"lxml\")        \n",
    "        airport_list = soup.find(id=\"AirportList\")\n",
    "        \n",
    "        for option in airport_list.find_all('option'):\n",
    "            airport_name = option['value']\n",
    "            \n",
    "            if \"All\" in airport_name:\n",
    "                pass\n",
    "            else:\n",
    "                data.append(airport_name)\n",
    "          \n",
    "    return data\n"
   ]
  },
  {
   "cell_type": "code",
   "execution_count": 20,
   "metadata": {
    "collapsed": false
   },
   "outputs": [],
   "source": [
    "def test():\n",
    "    data = extract_airports(html_page)\n",
    "    assert len(data) == 15\n",
    "    assert \"ATL\" in data\n",
    "    assert \"ABR\" in data\n"
   ]
  },
  {
   "cell_type": "code",
   "execution_count": 21,
   "metadata": {
    "collapsed": false
   },
   "outputs": [],
   "source": [
    "if __name__ == \"__main__\":\n",
    "    test()\n",
    "    "
   ]
  },
  {
   "cell_type": "markdown",
   "metadata": {},
   "source": [
    "## 3. Processing All"
   ]
  },
  {
   "cell_type": "code",
   "execution_count": 297,
   "metadata": {
    "collapsed": false
   },
   "outputs": [
    {
     "data": {
      "text/plain": [
       "'\\nLet\\'s assume that you combined the code from the previous 2 exercises with code\\nfrom the lesson on how to build requests, and downloaded all the data locally.\\nThe files are in a directory \"data\", named after the carrier and airport:\\n\"{}-{}.html\".format(carrier, airport), for example \"FL-ATL.html\".\\n\\nThe table with flight info has a table class=\"dataTDRight\". Your task is to\\nuse \\'process_file()\\' to extract the flight data from that table as a list of\\ndictionaries, each dictionary containing relevant data from the file and table\\nrow. This is an example of the data structure you should return:\\n\\ndata = [{\"courier\": \"FL\",\\n         \"airport\": \"ATL\",\\n         \"year\": 2012,\\n         \"month\": 12,\\n         \"flights\": {\"domestic\": 100,\\n                     \"international\": 100}\\n        },\\n         {\"courier\": \"...\"}\\n]\\n\\nNote - year, month, and the flight data should be integers.\\nYou should skip the rows that contain the TOTAL data for a year.\\n\\nThere are couple of helper functions to deal with the data files.\\nPlease do not change them for grading purposes.\\nAll your changes should be in the \\'process_file()\\' function.\\n\\nThe \\'data/FL-ATL.html\\' file in the tab above is only a part of the full data,\\ncovering data through 2003. The test() code will be run on the full table, but\\nthe given file should provide an example of what you will get.\\n'"
      ]
     },
     "execution_count": 297,
     "metadata": {},
     "output_type": "execute_result"
    }
   ],
   "source": [
    "#####################################\n",
    "#                 3                 #\n",
    "#####################################\n",
    "\n",
    "#!/usr/bin/env python\n",
    "# -*- coding: utf-8 -*-\n",
    "\"\"\"\n",
    "Let's assume that you combined the code from the previous 2 exercises with code\n",
    "from the lesson on how to build requests, and downloaded all the data locally.\n",
    "The files are in a directory \"data\", named after the carrier and airport:\n",
    "\"{}-{}.html\".format(carrier, airport), for example \"FL-ATL.html\".\n",
    "\n",
    "The table with flight info has a table class=\"dataTDRight\". Your task is to\n",
    "use 'process_file()' to extract the flight data from that table as a list of\n",
    "dictionaries, each dictionary containing relevant data from the file and table\n",
    "row. This is an example of the data structure you should return:\n",
    "\n",
    "data = [{\"courier\": \"FL\",\n",
    "         \"airport\": \"ATL\",\n",
    "         \"year\": 2012,\n",
    "         \"month\": 12,\n",
    "         \"flights\": {\"domestic\": 100,\n",
    "                     \"international\": 100}\n",
    "        },\n",
    "         {\"courier\": \"...\"}\n",
    "]\n",
    "\n",
    "Note - year, month, and the flight data should be integers.\n",
    "You should skip the rows that contain the TOTAL data for a year.\n",
    "\n",
    "There are couple of helper functions to deal with the data files.\n",
    "Please do not change them for grading purposes.\n",
    "All your changes should be in the 'process_file()' function.\n",
    "\n",
    "The 'data/FL-ATL.html' file in the tab above is only a part of the full data,\n",
    "covering data through 2003. The test() code will be run on the full table, but\n",
    "the given file should provide an example of what you will get.\n",
    "\"\"\"\n"
   ]
  },
  {
   "cell_type": "code",
   "execution_count": 392,
   "metadata": {
    "collapsed": true
   },
   "outputs": [],
   "source": [
    "datadir = \"P4L4_Resources/data\"\n"
   ]
  },
  {
   "cell_type": "code",
   "execution_count": 393,
   "metadata": {
    "collapsed": false
   },
   "outputs": [],
   "source": [
    "def open_zip(datadir):\n",
    "    with ZipFile('{0}.zip'.format(datadir), 'r') as myzip:\n",
    "        myzip.extractall()\n",
    "        "
   ]
  },
  {
   "cell_type": "code",
   "execution_count": 394,
   "metadata": {
    "collapsed": true
   },
   "outputs": [],
   "source": [
    "def process_all(datadir):\n",
    "    files = os.listdir(datadir)\n",
    "    return files\n"
   ]
  },
  {
   "cell_type": "code",
   "execution_count": 395,
   "metadata": {
    "collapsed": true
   },
   "outputs": [],
   "source": [
    "def process_file(f):\n",
    "    \"\"\"\n",
    "    This function extracts data from the file given as the function argument in\n",
    "    a list of dictionaries. This is example of the data structure you should\n",
    "    return:\n",
    "\n",
    "    data = [{\"courier\": \"FL\",\n",
    "             \"airport\": \"ATL\",\n",
    "             \"year\": 2012,\n",
    "             \"month\": 12,\n",
    "             \"flights\": {\"domestic\": 100,\n",
    "                         \"international\": 100}\n",
    "            },\n",
    "            {\"courier\": \"...\"}\n",
    "    ]\n",
    "\n",
    "\n",
    "    Note - year, month, and the flight data should be integers.\n",
    "    You should skip the rows that contain the TOTAL data for a year.\n",
    "    \"\"\"\n",
    "    data = []\n",
    "    info = {}\n",
    "    info[\"courier\"], info[\"airport\"] = f[:6].split(\"-\")\n",
    "    \n",
    "    # Note: create a new dictionary for each entry in the output data list.\n",
    "    # If you use the info dictionary defined here each element in the list \n",
    "    # will be a reference to the same info dictionary.\n",
    "    \n",
    "    # https://discussions.udacity.com/t/2-3-processing-all-problem-with-for-loops-and-getting-the-data-in/14411/16\n",
    "    \n",
    "    with open(\"{}/{}\".format(datadir, f), \"r\") as html:\n",
    "\n",
    "        soup = BeautifulSoup(html, \"lxml\")\n",
    "        car = info[\"courier\"]\n",
    "        airp = info[\"airport\"]\n",
    "        \n",
    "        mydict = {}\n",
    "        \n",
    "        # find a table with class=\"dataTDRight\"\n",
    "        flight_list = soup.find(\"table\",{\"class\":\"dataTDRight\"})\n",
    "        \n",
    "        rows = flight_list.find_all(\"tr\")\n",
    "        \n",
    "        for row in rows:\n",
    "\n",
    "            cells = row.find_all(\"td\")\n",
    "\n",
    "            year = cells[0].get_text()\n",
    "            year = (year.encode('ascii'))\n",
    "\n",
    "            month = cells[1].get_text()\n",
    "            month = (month.encode('ascii'))\n",
    "\n",
    "            domestic = cells[2].get_text()\n",
    "            domestic = (domestic.encode('ascii'))\n",
    "\n",
    "            international = cells[3].get_text()\n",
    "            international = (international.encode('ascii'))\n",
    "\n",
    "            # skip \"Month\" and \"TOTAL\" because their data type is not int \n",
    "            if month != \"Month\" and month != \"TOTAL\":\n",
    "                month = int(month)\n",
    "                year = int(year)\n",
    "                domestic = int(domestic.replace(',',''))\n",
    "                international = int(international.replace(',',''))\n",
    "\n",
    "                mydict['courier'] = car\n",
    "                mydict['airport'] = airp\n",
    "                mydict['year'] = year\n",
    "                mydict['month'] = month\n",
    "                mydict['flights'] = (domestic/100,international/100)\n",
    "                data.append(mydict.copy())\n",
    "\n",
    "            print mydict\n",
    "            \n",
    "    return data\n",
    "\n"
   ]
  },
  {
   "cell_type": "code",
   "execution_count": 408,
   "metadata": {
    "collapsed": false,
    "scrolled": true
   },
   "outputs": [
    {
     "name": "stdout",
     "output_type": "stream",
     "text": [
      "[{'flights': {'international': 925, 'domestic': 8154}, 'year': 2002, 'airport': 'ATL', 'courier': 'FL', 'month': 10}, {'flights': {'international': 913, 'domestic': 7667}, 'year': 2002, 'airport': 'ATL', 'courier': 'FL', 'month': 11}, {'flights': {'international': 968, 'domestic': 7821}, 'year': 2002, 'airport': 'ATL', 'courier': 'FL', 'month': 12}, {'flights': {'international': 980, 'domestic': 7856}, 'year': 2003, 'airport': 'ATL', 'courier': 'FL', 'month': 1}, {'flights': {'international': 859, 'domestic': 6907}, 'year': 2003, 'airport': 'ATL', 'courier': 'FL', 'month': 2}, {'flights': {'international': 979, 'domestic': 7976}, 'year': 2003, 'airport': 'ATL', 'courier': 'FL', 'month': 3}, {'flights': {'international': 893, 'domestic': 7666}, 'year': 2003, 'airport': 'ATL', 'courier': 'FL', 'month': 4}, {'flights': {'international': 876, 'domestic': 7898}, 'year': 2003, 'airport': 'ATL', 'courier': 'FL', 'month': 5}, {'flights': {'international': 954, 'domestic': 7988}, 'year': 2003, 'airport': 'ATL', 'courier': 'FL', 'month': 6}, {'flights': {'international': 1027, 'domestic': 8320}, 'year': 2003, 'airport': 'ATL', 'courier': 'FL', 'month': 7}, {'flights': {'international': 1021, 'domestic': 8311}, 'year': 2003, 'airport': 'ATL', 'courier': 'FL', 'month': 8}, {'flights': {'international': 906, 'domestic': 7822}, 'year': 2003, 'airport': 'ATL', 'courier': 'FL', 'month': 9}, {'flights': {'international': 918, 'domestic': 8187}, 'year': 2003, 'airport': 'ATL', 'courier': 'FL', 'month': 10}, {'flights': {'international': 910, 'domestic': 7662}, 'year': 2003, 'airport': 'ATL', 'courier': 'FL', 'month': 11}, {'flights': {'international': 970, 'domestic': 7988}, 'year': 2003, 'airport': 'ATL', 'courier': 'FL', 'month': 12}]\n"
     ]
    }
   ],
   "source": [
    "open_zip(datadir)\n",
    "files = process_all(datadir)\n",
    "\n",
    "f = \"FL-ATL.html\"\n",
    "data = []\n",
    "info = {}\n",
    "\n",
    "info[\"courier\"], info[\"airport\"] = f[:6].split(\"-\")\n",
    "\n",
    "with open(\"{}/{}\".format(datadir, f), \"r\") as html:\n",
    "    soup = BeautifulSoup(html, \"lxml\")\n",
    "    car = info[\"courier\"]\n",
    "    airp = info[\"airport\"]\n",
    "\n",
    "    mydict = {}\n",
    "\n",
    "    # find a table with class=\"dataTDRight\"\n",
    "    flight_list = soup.find(\"table\",{\"class\":\"dataTDRight\"})\n",
    "    \n",
    "    rows = flight_list.find_all(\"tr\")\n",
    "    \n",
    "    \n",
    "    for row in rows:\n",
    "\n",
    "        cells = row.find_all(\"td\")\n",
    "\n",
    "        year = cells[0].get_text()\n",
    "        year = (year.encode('ascii'))\n",
    "\n",
    "        month = cells[1].get_text()\n",
    "        month = (month.encode('ascii'))\n",
    "\n",
    "        domestic = cells[2].get_text()\n",
    "        domestic = (domestic.encode('ascii'))\n",
    "\n",
    "        international = cells[3].get_text()\n",
    "        international = (international.encode('ascii'))\n",
    "        \n",
    "        mydict['flights'] = {}\n",
    "\n",
    "        # skip \"Month\" and \"TOTAL\" because their data type is not int \n",
    "        if month != \"Month\" and month != \"TOTAL\":\n",
    "            month = int(month)\n",
    "            year = int(year)\n",
    "            domestic = int(domestic.replace(',',''))\n",
    "            international = int(international.replace(',',''))\n",
    "\n",
    "            mydict['courier'] = car\n",
    "            mydict['airport'] = airp\n",
    "            mydict['year'] = year\n",
    "            mydict['month'] = month\n",
    "            mydict['flights']['domestic'] = (domestic/100)\n",
    "            mydict['flights']['international'] = (international/100)\n",
    "            data.append(mydict.copy())\n",
    "\n",
    "        # print mydict\n",
    "print data\n"
   ]
  },
  {
   "cell_type": "code",
   "execution_count": 399,
   "metadata": {
    "collapsed": true
   },
   "outputs": [],
   "source": [
    "def test():\n",
    "    print \"Running a simple test...\"\n",
    "    open_zip(datadir)\n",
    "    files = process_all(datadir)\n",
    "    data = []\n",
    "    # Test will loop over three data files.\n",
    "    for f in files:\n",
    "        data += process_file(f)\n",
    "        \n",
    "    assert len(data) == 399  # Total number of rows\n",
    "    for entry in data[:3]:\n",
    "        assert type(entry[\"year\"]) == int\n",
    "        assert type(entry[\"month\"]) == int\n",
    "        assert type(entry[\"flights\"][\"domestic\"]) == int\n",
    "        assert len(entry[\"airport\"]) == 3\n",
    "        assert len(entry[\"courier\"]) == 2\n",
    "    assert data[0][\"courier\"] == 'FL'\n",
    "    assert data[0][\"month\"] == 10\n",
    "    assert data[-1][\"airport\"] == \"ATL\"\n",
    "    assert data[-1][\"flights\"] == {'international': 108289, 'domestic': 701425}\n",
    "    \n",
    "    print \"... success!\"\n",
    "    "
   ]
  },
  {
   "cell_type": "code",
   "execution_count": 329,
   "metadata": {
    "collapsed": false
   },
   "outputs": [
    {
     "ename": "NameError",
     "evalue": "name 'myzip' is not defined",
     "output_type": "error",
     "traceback": [
      "\u001b[0;31m---------------------------------------------------------------------------\u001b[0m",
      "\u001b[0;31mNameError\u001b[0m                                 Traceback (most recent call last)",
      "\u001b[0;32m<ipython-input-329-ad382742cd1b>\u001b[0m in \u001b[0;36m<module>\u001b[0;34m()\u001b[0m\n\u001b[1;32m      1\u001b[0m \u001b[0mopen_zip\u001b[0m\u001b[0;34m(\u001b[0m\u001b[0mdatadir\u001b[0m\u001b[0;34m)\u001b[0m\u001b[0;34m\u001b[0m\u001b[0m\n\u001b[0;32m----> 2\u001b[0;31m \u001b[0;32mprint\u001b[0m \u001b[0mmyzip\u001b[0m\u001b[0;34m\u001b[0m\u001b[0m\n\u001b[0m",
      "\u001b[0;31mNameError\u001b[0m: name 'myzip' is not defined"
     ]
    }
   ],
   "source": [
    "open_zip(datadir)\n",
    "print myzip"
   ]
  },
  {
   "cell_type": "code",
   "execution_count": 331,
   "metadata": {
    "collapsed": false
   },
   "outputs": [
    {
     "ename": "OSError",
     "evalue": "[Errno 2] No such file or directory: 'P4L4_Resources/data'",
     "output_type": "error",
     "traceback": [
      "\u001b[0;31m---------------------------------------------------------------------------\u001b[0m",
      "\u001b[0;31mOSError\u001b[0m                                   Traceback (most recent call last)",
      "\u001b[0;32m<ipython-input-331-904e73036eb5>\u001b[0m in \u001b[0;36m<module>\u001b[0;34m()\u001b[0m\n\u001b[0;32m----> 1\u001b[0;31m \u001b[0mprocess_all\u001b[0m\u001b[0;34m(\u001b[0m\u001b[0mdatadir\u001b[0m\u001b[0;34m)\u001b[0m\u001b[0;34m\u001b[0m\u001b[0m\n\u001b[0m",
      "\u001b[0;32m<ipython-input-325-bf356c8ff59b>\u001b[0m in \u001b[0;36mprocess_all\u001b[0;34m(datadir)\u001b[0m\n\u001b[1;32m      1\u001b[0m \u001b[0;32mdef\u001b[0m \u001b[0mprocess_all\u001b[0m\u001b[0;34m(\u001b[0m\u001b[0mdatadir\u001b[0m\u001b[0;34m)\u001b[0m\u001b[0;34m:\u001b[0m\u001b[0;34m\u001b[0m\u001b[0m\n\u001b[0;32m----> 2\u001b[0;31m     \u001b[0mfiles\u001b[0m \u001b[0;34m=\u001b[0m \u001b[0mos\u001b[0m\u001b[0;34m.\u001b[0m\u001b[0mlistdir\u001b[0m\u001b[0;34m(\u001b[0m\u001b[0mdatadir\u001b[0m\u001b[0;34m)\u001b[0m\u001b[0;34m\u001b[0m\u001b[0m\n\u001b[0m\u001b[1;32m      3\u001b[0m     \u001b[0;32mreturn\u001b[0m \u001b[0mfiles\u001b[0m\u001b[0;34m\u001b[0m\u001b[0m\n",
      "\u001b[0;31mOSError\u001b[0m: [Errno 2] No such file or directory: 'P4L4_Resources/data'"
     ]
    }
   ],
   "source": [
    "process_all(datadir)\n"
   ]
  },
  {
   "cell_type": "code",
   "execution_count": 321,
   "metadata": {
    "collapsed": false
   },
   "outputs": [
    {
     "name": "stdout",
     "output_type": "stream",
     "text": [
      "Running a simple test...\n"
     ]
    },
    {
     "ename": "OSError",
     "evalue": "[Errno 2] No such file or directory: 'P4L4_Resources/data'",
     "output_type": "error",
     "traceback": [
      "\u001b[0;31m---------------------------------------------------------------------------\u001b[0m",
      "\u001b[0;31mOSError\u001b[0m                                   Traceback (most recent call last)",
      "\u001b[0;32m<ipython-input-321-e2ad77daa3e3>\u001b[0m in \u001b[0;36m<module>\u001b[0;34m()\u001b[0m\n\u001b[1;32m      1\u001b[0m \u001b[0;32mif\u001b[0m \u001b[0m__name__\u001b[0m \u001b[0;34m==\u001b[0m \u001b[0;34m\"__main__\"\u001b[0m\u001b[0;34m:\u001b[0m\u001b[0;34m\u001b[0m\u001b[0m\n\u001b[0;32m----> 2\u001b[0;31m     \u001b[0mtest\u001b[0m\u001b[0;34m(\u001b[0m\u001b[0;34m)\u001b[0m\u001b[0;34m\u001b[0m\u001b[0m\n\u001b[0m\u001b[1;32m      3\u001b[0m \u001b[0;34m\u001b[0m\u001b[0m\n",
      "\u001b[0;32m<ipython-input-320-853d938e73c0>\u001b[0m in \u001b[0;36mtest\u001b[0;34m()\u001b[0m\n\u001b[1;32m      2\u001b[0m     \u001b[0;32mprint\u001b[0m \u001b[0;34m\"Running a simple test...\"\u001b[0m\u001b[0;34m\u001b[0m\u001b[0m\n\u001b[1;32m      3\u001b[0m     \u001b[0mopen_zip\u001b[0m\u001b[0;34m(\u001b[0m\u001b[0mdatadir\u001b[0m\u001b[0;34m)\u001b[0m\u001b[0;34m\u001b[0m\u001b[0m\n\u001b[0;32m----> 4\u001b[0;31m     \u001b[0mfiles\u001b[0m \u001b[0;34m=\u001b[0m \u001b[0mprocess_all\u001b[0m\u001b[0;34m(\u001b[0m\u001b[0mdatadir\u001b[0m\u001b[0;34m)\u001b[0m\u001b[0;34m\u001b[0m\u001b[0m\n\u001b[0m\u001b[1;32m      5\u001b[0m     \u001b[0mdata\u001b[0m \u001b[0;34m=\u001b[0m \u001b[0;34m[\u001b[0m\u001b[0;34m]\u001b[0m\u001b[0;34m\u001b[0m\u001b[0m\n\u001b[1;32m      6\u001b[0m     \u001b[0;31m# Test will loop over three data files.\u001b[0m\u001b[0;34m\u001b[0m\u001b[0;34m\u001b[0m\u001b[0m\n",
      "\u001b[0;32m<ipython-input-318-bf356c8ff59b>\u001b[0m in \u001b[0;36mprocess_all\u001b[0;34m(datadir)\u001b[0m\n\u001b[1;32m      1\u001b[0m \u001b[0;32mdef\u001b[0m \u001b[0mprocess_all\u001b[0m\u001b[0;34m(\u001b[0m\u001b[0mdatadir\u001b[0m\u001b[0;34m)\u001b[0m\u001b[0;34m:\u001b[0m\u001b[0;34m\u001b[0m\u001b[0m\n\u001b[0;32m----> 2\u001b[0;31m     \u001b[0mfiles\u001b[0m \u001b[0;34m=\u001b[0m \u001b[0mos\u001b[0m\u001b[0;34m.\u001b[0m\u001b[0mlistdir\u001b[0m\u001b[0;34m(\u001b[0m\u001b[0mdatadir\u001b[0m\u001b[0;34m)\u001b[0m\u001b[0;34m\u001b[0m\u001b[0m\n\u001b[0m\u001b[1;32m      3\u001b[0m     \u001b[0;32mreturn\u001b[0m \u001b[0mfiles\u001b[0m\u001b[0;34m\u001b[0m\u001b[0m\n",
      "\u001b[0;31mOSError\u001b[0m: [Errno 2] No such file or directory: 'P4L4_Resources/data'"
     ]
    }
   ],
   "source": [
    "if __name__ == \"__main__\":\n",
    "    test()\n",
    "    "
   ]
  },
  {
   "cell_type": "code",
   "execution_count": null,
   "metadata": {
    "collapsed": true
   },
   "outputs": [],
   "source": []
  },
  {
   "cell_type": "code",
   "execution_count": null,
   "metadata": {
    "collapsed": true
   },
   "outputs": [],
   "source": []
  }
 ],
 "metadata": {
  "kernelspec": {
   "display_name": "Python [conda env:DAND]",
   "language": "python",
   "name": "conda-env-DAND-py"
  },
  "language_info": {
   "codemirror_mode": {
    "name": "ipython",
    "version": 2
   },
   "file_extension": ".py",
   "mimetype": "text/x-python",
   "name": "python",
   "nbconvert_exporter": "python",
   "pygments_lexer": "ipython2",
   "version": "2.7.12"
  }
 },
 "nbformat": 4,
 "nbformat_minor": 2
}
